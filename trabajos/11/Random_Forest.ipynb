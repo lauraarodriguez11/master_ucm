{
 "cells": [
  {
   "cell_type": "markdown",
   "id": "f24ba013",
   "metadata": {},
   "source": []
  },
  {
   "cell_type": "code",
   "execution_count": 2,
   "id": "dbd2bb4a",
   "metadata": {},
   "outputs": [],
   "source": [
    "from sklearn.model_selection import train_test_split, GridSearchCV\n",
    "from sklearn.ensemble import RandomForestRegressor, RandomForestClassifier\n",
    "from sklearn.tree import DecisionTreeClassifier, export_text, DecisionTreeRegressor\n",
    "from sklearn.tree import plot_tree\n",
    "from sklearn.metrics import confusion_matrix, classification_report, accuracy_score, precision_score, recall_score, f1_score, roc_auc_score, roc_curve, auc\n",
    "from sklearn.metrics import make_scorer, mean_absolute_error, mean_squared_error, r2_score\n",
    "import pandas as pd\n",
    "import numpy as np\n",
    "import matplotlib.pyplot as plt\n",
    "import seaborn as sns"
   ]
  },
  {
   "cell_type": "code",
   "execution_count": null,
   "id": "c111b0e1",
   "metadata": {},
   "outputs": [],
   "source": [
    "# NOTA IMPORTANTE: AQUÍ SÓLO SE MUESTRA EL CÓDIGO NECESARIO PARA APLICAR RANDOM FOREST.\n",
    "\n",
    "# RECUÉRDESE LA IMPORTANCIA DE LOS PASOS A SEGUIR PARA IMPLEMENTAR DE FORMA ADECUADA UN MODELO:\n",
    "# (1) CARGAR BASE DE DATOS Y CONOCER FRECUENCIA DE CLASES O DISTRIBUCIÓN DE ACUERDO CON EL TIPO DE PROBLEMA.\n",
    "# (2) DIVIR TRAIN, TEST Y COMPROBAR SI LA DISTRIBUCIÓN DE LA VARIABLE DEPENDIENTE ES SIMILAR EN AMBOS SETS.\n",
    "# (3) AJUSTAR EL MODELO Y VALORAR LAS NECESIDADES DE INVESTIGACIÓN PARA DAR MÁS PESO A UNAS MEDIDAS DE BONDAD DE AJUSTE CON RESPECTO A OTRAS. \n",
    "# (3.1) APLICAR VALIDACIÓN CRUZADA Y, EN CASO DE NECESIDAD, UN GRIDSEARCH PARA CONOCER LAS BONDADES DE AJUSTE PARA DISTINTAS PARAMETRIZACIONES.\n",
    "# (4) HACER PREDICCIONES SOBRE TRAIN Y TEST CON EL FIN DE OBSERVAR EL POSIBLE SOBREAJUSTE. VALORAR EN TEST LA CAPACIDAD PREDICTIVA DEL MODELO.\n",
    "# (5) SELECCIONAR LAS ALTERNATIVAS QUE MÁS NOS INTERESEN POR SU BONDAD DE AJUSTE ESPECÍFICA.\n",
    "# (6) MOSTRAR BOXPLOTS DE SU PERFORMANCE EN LAS DISTINTAS VALIDACIONES PARA VALORAR LA ROBUSTEZ Y TOMAR UNA DECISIÓN.\n",
    "# (7) HACER UN INFORME DE LA PARAMETRIZACIÓN Y BONDAD DE AJUSTE DEL MODELO FINAL SELECCIONADO."
   ]
  },
  {
   "cell_type": "code",
   "execution_count": 3,
   "id": "1e882d94",
   "metadata": {},
   "outputs": [
    {
     "name": "stdout",
     "output_type": "stream",
     "text": [
      "   sbp  tobacco   ldl  adiposity  famhist  typea  obesity  alcohol  age  chd\n",
      "0  160    12.00  5.73      23.11  Present     49    25.30    97.20   52    1\n",
      "1  144     0.01  4.41      28.61   Absent     55    28.87     2.06   63    1\n",
      "2  118     0.08  3.48      32.28  Present     52    29.14     3.81   46    0\n",
      "3  170     7.50  6.41      38.03  Present     51    31.99    24.26   58    1\n",
      "4  134    13.60  3.50      27.78  Present     60    25.99    57.34   49    1\n",
      "\n",
      "La frecuencia de cada clase es: \n",
      "0    0.65368\n",
      "1    0.34632\n",
      "Name: chd, dtype: float64\n"
     ]
    }
   ],
   "source": [
    "file_path = 'C:/Users/user/OneDrive - Universidad Complutense de Madrid (UCM)/Escritorio/A_Doctorado/23/00_DOCENCIA/Máster Tit_Propio/Árboles/arboles.csv'  # Reemplaza con la ruta correcta de tu archivo\n",
    "file_path_2 = 'E:/OneDrive - Universidad Complutense de Madrid (UCM)/Escritorio/A_Doctorado/23/00_DOCENCIA/Máster Tit_Propio/Árboles/arboles.csv'\n",
    "df = pd.read_csv(file_path_2)\n",
    "print(df.head())\n",
    "print(f'\\nLa frecuencia de cada clase es: \\n{df.chd.value_counts(normalize=True)}')"
   ]
  },
  {
   "cell_type": "code",
   "execution_count": 4,
   "id": "d693bafd",
   "metadata": {},
   "outputs": [
    {
     "name": "stdout",
     "output_type": "stream",
     "text": [
      "   sbp  tobacco   ldl  adiposity  famhist  typea  obesity  alcohol  age  chd\n",
      "0  160    12.00  5.73      23.11  Present     49    25.30    97.20   52  Yes\n",
      "1  144     0.01  4.41      28.61   Absent     55    28.87     2.06   63  Yes\n",
      "2  118     0.08  3.48      32.28  Present     52    29.14     3.81   46   No\n",
      "3  170     7.50  6.41      38.03  Present     51    31.99    24.26   58  Yes\n",
      "4  134    13.60  3.50      27.78  Present     60    25.99    57.34   49  Yes\n"
     ]
    }
   ],
   "source": [
    "# Categorizar la variable de respuesta\n",
    "df['chd'] = df['chd'].apply(lambda x: 'Yes' if x == 1 else 'No')\n",
    "print(df.head())"
   ]
  },
  {
   "cell_type": "code",
   "execution_count": 5,
   "id": "76fd77ae",
   "metadata": {},
   "outputs": [],
   "source": [
    "#es importante tratar de forma adecuada las variables categóricas. Se convierten en numéricas con la regla: one hot encoding.\n",
    "df[['famhist']] = pd.get_dummies(df[['famhist']],drop_first=True)\n",
    "# Separar las variables predictoras y la variable de respuesta.\n",
    "X = df.drop('chd', axis=1)\n",
    "y = df['chd']\n",
    "X_train, X_test, y_train, y_test = train_test_split(X, y, test_size=0.2, random_state=123)"
   ]
  },
  {
   "cell_type": "code",
   "execution_count": 6,
   "id": "9613a474",
   "metadata": {},
   "outputs": [
    {
     "name": "stdout",
     "output_type": "stream",
     "text": [
      "La frecuencia de cada clase en train es: \n",
      "No     0.655827\n",
      "Yes    0.344173\n",
      "Name: chd, dtype: float64\n",
      "\n",
      "La frecuencia de cada clase en test es: \n",
      "No     0.645161\n",
      "Yes    0.354839\n",
      "Name: chd, dtype: float64\n"
     ]
    }
   ],
   "source": [
    "# ES IMPORTANTE QUE LA DISTRIBUCIÓN DE LAS CLASES SEA 'SIMILAR' EN TRAIN Y TEST.\n",
    "print(f'La frecuencia de cada clase en train es: \\n{y_train.value_counts(normalize=True)}')\n",
    "print(f'\\nLa frecuencia de cada clase en test es: \\n{y_test.value_counts(normalize=True)}')"
   ]
  },
  {
   "cell_type": "code",
   "execution_count": 7,
   "id": "90281086",
   "metadata": {
    "scrolled": false
   },
   "outputs": [
    {
     "name": "stdout",
     "output_type": "stream",
     "text": [
      "   sbp  tobacco   ldl  adiposity  famhist  typea  obesity  alcohol  age  chd\n",
      "0  160    12.00  5.73      23.11        1     49    25.30    97.20   52  Yes\n",
      "1  144     0.01  4.41      28.61        0     55    28.87     2.06   63  Yes\n",
      "2  118     0.08  3.48      32.28        1     52    29.14     3.81   46   No\n",
      "3  170     7.50  6.41      38.03        1     51    31.99    24.26   58  Yes\n",
      "4  134    13.60  3.50      27.78        1     60    25.99    57.34   49  Yes\n"
     ]
    }
   ],
   "source": [
    "print(df.head())"
   ]
  },
  {
   "cell_type": "code",
   "execution_count": 8,
   "id": "4b7aa52a",
   "metadata": {},
   "outputs": [
    {
     "name": "stdout",
     "output_type": "stream",
     "text": [
      "Precisión del árbol estándar: 0.6989247311827957\n"
     ]
    }
   ],
   "source": [
    "# Crear el árbol de decisión base. \n",
    "# OJO, estos no son los mejores parámetros; solo son ilustraciones para la comparación con bagging.\n",
    "base_classifier = DecisionTreeClassifier(min_samples_split=10, criterion='gini', max_depth = 5, random_state = 123)\n",
    "base_classifier.fit(X_train, y_train)\n",
    "y_pred_base = base_classifier.predict(X_test)\n",
    "# Evaluar el rendimiento del modelo\n",
    "accuracy_a = accuracy_score(y_test, y_pred_base)\n",
    "print(f'Precisión del árbol estándar: {accuracy_a}')"
   ]
  },
  {
   "cell_type": "code",
   "execution_count": 9,
   "id": "4207377e",
   "metadata": {},
   "outputs": [
    {
     "name": "stdout",
     "output_type": "stream",
     "text": [
      "Precisión del modelo con RF estándar: 0.7096774193548387\n"
     ]
    }
   ],
   "source": [
    "# n_estimators: Número de árboles en el bosque\n",
    "# max_depth: Profundidad máxima de cada árbol\n",
    "# min_samples_split: Número mínimo de muestras requeridas para dividir un nodo interno\n",
    "# min_samples_leaf: Número mínimo de muestras requeridas para estar en un nodo hoja\n",
    "# max_features: Número o proporción de características para ajustar cada árbol\n",
    "# bootstrap: Si se deben realizar remuestreos con reemplazo (True) o sin reemplazo (False)\n",
    "# n_jobs: Número de trabajadores para entrenar los árboles de forma paralela\n",
    "# random_state: Semilla para reproducibilidad\n",
    "RF_model = RandomForestClassifier(n_estimators = 60,bootstrap = True, max_depth = 20, min_samples_split=10, criterion='entropy',min_samples_leaf = 10,random_state=123)\n",
    "RF_model.fit(X_train, y_train)\n",
    "y_pred_rf = RF_model.predict(X_test)\n",
    "\n",
    "# Evaluar el rendimiento del modelo\n",
    "accuracy_rf = accuracy_score(y_test, y_pred_rf)\n",
    "print(f'Precisión del modelo con RF estándar: {accuracy_rf}')"
   ]
  },
  {
   "cell_type": "code",
   "execution_count": 10,
   "id": "3274be12",
   "metadata": {},
   "outputs": [
    {
     "data": {
      "image/png": "[encoded data removed]",
      "text/plain": [
       "<Figure size 1000x600 with 1 Axes>"
      ]
     },
     "metadata": {},
     "output_type": "display_data"
    }
   ],
   "source": [
    "# Crear un gráfico de dispersión para comparar las predicciones\n",
    "plt.figure(figsize=(10, 6))\n",
    "\n",
    "plt.scatter(np.arange(len(y_test)), y_test, color='green', label='True Values', marker='o', s=100)\n",
    "plt.scatter(np.arange(len(y_test)), y_pred_base, color='orange', label=f'Base Árbol Decisión (Acc: {accuracy_a:.2f})', marker='x', s=70)\n",
    "plt.scatter(np.arange(len(y_test)), y_pred_rf, color='blue', label=f'Base Random Forest (Acc: {accuracy_rf:.2f})', marker='x', s=70)\n",
    "\n",
    "plt.title('Predicciones RandomForest')\n",
    "plt.xlabel('Índice de la Muestra')\n",
    "plt.ylabel('Etiqueta de Clase')\n",
    "plt.legend()\n",
    "plt.show()"
   ]
  },
  {
   "cell_type": "code",
   "execution_count": 11,
   "id": "ba55d7b8",
   "metadata": {},
   "outputs": [
    {
     "name": "stdout",
     "output_type": "stream",
     "text": [
      "Se tiene un accuracy para train de: 0.8346883468834688\n",
      "Se tiene un accuracy para test de: 0.7096774193548387\n",
      "Nótese la diferencia en accuracy para ambos conjuntos de datos y el posible sobreajuste.\n"
     ]
    }
   ],
   "source": [
    "# se procede a observar el posible sobreajuste comparando predicciones en train y test.\n",
    "# predicciones significativamente mayores en train que en test puede indicar sobreajuste.\n",
    "# Predicciones en conjunto de entrenamiento y prueba\n",
    "y_train_pred = RF_model.predict(X_train)\n",
    "y_test_pred = RF_model.predict(X_test)\n",
    "print(f'Se tiene un accuracy para train de: {accuracy_score(y_train,y_train_pred)}')\n",
    "print(f'Se tiene un accuracy para test de: {accuracy_score(y_test,y_test_pred)}')\n",
    "print('Nótese la diferencia en accuracy para ambos conjuntos de datos y el posible sobreajuste.')"
   ]
  },
  {
   "cell_type": "code",
   "execution_count": 53,
   "id": "0ded1638",
   "metadata": {},
   "outputs": [
    {
     "data": {
      "text/plain": [
       "<bound method BaseEstimator.get_params of RandomForestClassifier(criterion='entropy', max_depth=20, min_samples_leaf=10,\n",
       "                       min_samples_split=10, n_estimators=60, random_state=123)>"
      ]
     },
     "execution_count": 53,
     "metadata": {},
     "output_type": "execute_result"
    }
   ],
   "source": [
    "RF_model.get_params"
   ]
  },
  {
   "cell_type": "code",
   "execution_count": 12,
   "id": "21be7f9e",
   "metadata": {
    "scrolled": true
   },
   "outputs": [
    {
     "data": {
      "text/html": [
       "<style>#sk-container-id-1 {color: black;}#sk-container-id-1 pre{padding: 0;}#sk-container-id-1 div.sk-toggleable {background-color: white;}#sk-container-id-1 label.sk-toggleable__label {cursor: pointer;display: block;width: 100%;margin-bottom: 0;padding: 0.3em;box-sizing: border-box;text-align: center;}#sk-container-id-1 label.sk-toggleable__label-arrow:before {content: \"▸\";float: left;margin-right: 0.25em;color: #696969;}#sk-container-id-1 label.sk-toggleable__label-arrow:hover:before {color: black;}#sk-container-id-1 div.sk-estimator:hover label.sk-toggleable__label-arrow:before {color: black;}#sk-container-id-1 div.sk-toggleable__content {max-height: 0;max-width: 0;overflow: hidden;text-align: left;background-color: #f0f8ff;}#sk-container-id-1 div.sk-toggleable__content pre {margin: 0.2em;color: black;border-radius: 0.25em;background-color: #f0f8ff;}#sk-container-id-1 input.sk-toggleable__control:checked~div.sk-toggleable__content {max-height: 200px;max-width: 100%;overflow: auto;}#sk-container-id-1 input.sk-toggleable__control:checked~label.sk-toggleable__label-arrow:before {content: \"▾\";}#sk-container-id-1 div.sk-estimator input.sk-toggleable__control:checked~label.sk-toggleable__label {background-color: #d4ebff;}#sk-container-id-1 div.sk-label input.sk-toggleable__control:checked~label.sk-toggleable__label {background-color: #d4ebff;}#sk-container-id-1 input.sk-hidden--visually {border: 0;clip: rect(1px 1px 1px 1px);clip: rect(1px, 1px, 1px, 1px);height: 1px;margin: -1px;overflow: hidden;padding: 0;position: absolute;width: 1px;}#sk-container-id-1 div.sk-estimator {font-family: monospace;background-color: #f0f8ff;border: 1px dotted black;border-radius: 0.25em;box-sizing: border-box;margin-bottom: 0.5em;}#sk-container-id-1 div.sk-estimator:hover {background-color: #d4ebff;}#sk-container-id-1 div.sk-parallel-item::after {content: \"\";width: 100%;border-bottom: 1px solid gray;flex-grow: 1;}#sk-container-id-1 div.sk-label:hover label.sk-toggleable__label {background-color: #d4ebff;}#sk-container-id-1 div.sk-serial::before {content: \"\";position: absolute;border-left: 1px solid gray;box-sizing: border-box;top: 0;bottom: 0;left: 50%;z-index: 0;}#sk-container-id-1 div.sk-serial {display: flex;flex-direction: column;align-items: center;background-color: white;padding-right: 0.2em;padding-left: 0.2em;position: relative;}#sk-container-id-1 div.sk-item {position: relative;z-index: 1;}#sk-container-id-1 div.sk-parallel {display: flex;align-items: stretch;justify-content: center;background-color: white;position: relative;}#sk-container-id-1 div.sk-item::before, #sk-container-id-1 div.sk-parallel-item::before {content: \"\";position: absolute;border-left: 1px solid gray;box-sizing: border-box;top: 0;bottom: 0;left: 50%;z-index: -1;}#sk-container-id-1 div.sk-parallel-item {display: flex;flex-direction: column;z-index: 1;position: relative;background-color: white;}#sk-container-id-1 div.sk-parallel-item:first-child::after {align-self: flex-end;width: 50%;}#sk-container-id-1 div.sk-parallel-item:last-child::after {align-self: flex-start;width: 50%;}#sk-container-id-1 div.sk-parallel-item:only-child::after {width: 0;}#sk-container-id-1 div.sk-dashed-wrapped {border: 1px dashed gray;margin: 0 0.4em 0.5em 0.4em;box-sizing: border-box;padding-bottom: 0.4em;background-color: white;}#sk-container-id-1 div.sk-label label {font-family: monospace;font-weight: bold;display: inline-block;line-height: 1.2em;}#sk-container-id-1 div.sk-label-container {text-align: center;}#sk-container-id-1 div.sk-container {/* jupyter's `normalize.less` sets `[hidden] { display: none; }` but bootstrap.min.css set `[hidden] { display: none !important; }` so we also need the `!important` here to be able to override the default hidden behavior on the sphinx rendered scikit-learn.org. See: https://github.com/scikit-learn/scikit-learn/issues/21755 */display: inline-block !important;position: relative;}#sk-container-id-1 div.sk-text-repr-fallback {display: none;}</style><div id=\"sk-container-id-1\" class=\"sk-top-container\"><div class=\"sk-text-repr-fallback\"><pre>GridSearchCV(cv=4,\n",
       "             estimator=RandomForestClassifier(criterion=&#x27;entropy&#x27;, max_depth=20,\n",
       "                                              min_samples_leaf=10,\n",
       "                                              min_samples_split=10,\n",
       "                                              n_estimators=60,\n",
       "                                              random_state=123),\n",
       "             param_grid={&#x27;bootstrap&#x27;: [True, False],\n",
       "                         &#x27;criterion&#x27;: [&#x27;gini&#x27;, &#x27;entropy&#x27;],\n",
       "                         &#x27;max_depth&#x27;: [2, 3, 5, 10, 20],\n",
       "                         &#x27;min_samples_leaf&#x27;: [3, 10, 30],\n",
       "                         &#x27;min_samples_split&#x27;: [5, 10, 20, 50, 100],\n",
       "                         &#x27;n_estimators&#x27;: [50, 100, 150, 200, 250]},\n",
       "             refit=&#x27;accuracy&#x27;,\n",
       "             scoring=[&#x27;accuracy&#x27;, &#x27;precision_macro&#x27;, &#x27;recall_macro&#x27;,\n",
       "                      &#x27;f1_macro&#x27;])</pre><b>In a Jupyter environment, please rerun this cell to show the HTML representation or trust the notebook. <br />On GitHub, the HTML representation is unable to render, please try loading this page with nbviewer.org.</b></div><div class=\"sk-container\" hidden><div class=\"sk-item sk-dashed-wrapped\"><div class=\"sk-label-container\"><div class=\"sk-label sk-toggleable\"><input class=\"sk-toggleable__control sk-hidden--visually\" id=\"sk-estimator-id-1\" type=\"checkbox\" ><label for=\"sk-estimator-id-1\" class=\"sk-toggleable__label sk-toggleable__label-arrow\">GridSearchCV</label><div class=\"sk-toggleable__content\"><pre>GridSearchCV(cv=4,\n",
       "             estimator=RandomForestClassifier(criterion=&#x27;entropy&#x27;, max_depth=20,\n",
       "                                              min_samples_leaf=10,\n",
       "                                              min_samples_split=10,\n",
       "                                              n_estimators=60,\n",
       "                                              random_state=123),\n",
       "             param_grid={&#x27;bootstrap&#x27;: [True, False],\n",
       "                         &#x27;criterion&#x27;: [&#x27;gini&#x27;, &#x27;entropy&#x27;],\n",
       "                         &#x27;max_depth&#x27;: [2, 3, 5, 10, 20],\n",
       "                         &#x27;min_samples_leaf&#x27;: [3, 10, 30],\n",
       "                         &#x27;min_samples_split&#x27;: [5, 10, 20, 50, 100],\n",
       "                         &#x27;n_estimators&#x27;: [50, 100, 150, 200, 250]},\n",
       "             refit=&#x27;accuracy&#x27;,\n",
       "             scoring=[&#x27;accuracy&#x27;, &#x27;precision_macro&#x27;, &#x27;recall_macro&#x27;,\n",
       "                      &#x27;f1_macro&#x27;])</pre></div></div></div><div class=\"sk-parallel\"><div class=\"sk-parallel-item\"><div class=\"sk-item\"><div class=\"sk-label-container\"><div class=\"sk-label sk-toggleable\"><input class=\"sk-toggleable__control sk-hidden--visually\" id=\"sk-estimator-id-2\" type=\"checkbox\" ><label for=\"sk-estimator-id-2\" class=\"sk-toggleable__label sk-toggleable__label-arrow\">estimator: RandomForestClassifier</label><div class=\"sk-toggleable__content\"><pre>RandomForestClassifier(criterion=&#x27;entropy&#x27;, max_depth=20, min_samples_leaf=10,\n",
       "                       min_samples_split=10, n_estimators=60, random_state=123)</pre></div></div></div><div class=\"sk-serial\"><div class=\"sk-item\"><div class=\"sk-estimator sk-toggleable\"><input class=\"sk-toggleable__control sk-hidden--visually\" id=\"sk-estimator-id-3\" type=\"checkbox\" ><label for=\"sk-estimator-id-3\" class=\"sk-toggleable__label sk-toggleable__label-arrow\">RandomForestClassifier</label><div class=\"sk-toggleable__content\"><pre>RandomForestClassifier(criterion=&#x27;entropy&#x27;, max_depth=20, min_samples_leaf=10,\n",
       "                       min_samples_split=10, n_estimators=60, random_state=123)</pre></div></div></div></div></div></div></div></div></div></div>"
      ],
      "text/plain": [
       "GridSearchCV(cv=4,\n",
       "             estimator=RandomForestClassifier(criterion='entropy', max_depth=20,\n",
       "                                              min_samples_leaf=10,\n",
       "                                              min_samples_split=10,\n",
       "                                              n_estimators=60,\n",
       "                                              random_state=123),\n",
       "             param_grid={'bootstrap': [True, False],\n",
       "                         'criterion': ['gini', 'entropy'],\n",
       "                         'max_depth': [2, 3, 5, 10, 20],\n",
       "                         'min_samples_leaf': [3, 10, 30],\n",
       "                         'min_samples_split': [5, 10, 20, 50, 100],\n",
       "                         'n_estimators': [50, 100, 150, 200, 250]},\n",
       "             refit='accuracy',\n",
       "             scoring=['accuracy', 'precision_macro', 'recall_macro',\n",
       "                      'f1_macro'])"
      ]
     },
     "execution_count": 12,
     "metadata": {},
     "output_type": "execute_result"
    }
   ],
   "source": [
    "# Se puede seleccionar un grill extenso y meditado sobre los distintos parámetros con los que jugar.\n",
    "params = {\n",
    "    'n_estimators' : [50,100,150,200,250],\n",
    "    'max_depth': [2, 3, 5, 10, 20],\n",
    "    'bootstrap': [True, False],\n",
    "    'min_samples_leaf' : [3,10,30],\n",
    "    'min_samples_split': [5, 10, 20, 50, 100],\n",
    "    'criterion': [\"gini\", \"entropy\"]\n",
    "}\n",
    "\n",
    "scoring_metrics = ['accuracy', 'precision_macro', 'recall_macro', 'f1_macro']\n",
    "#recordar que arbol2 es el árbol cuyas VI son todas las variables.\n",
    "# cv = crossvalidation\n",
    "grid_search_RF = GridSearchCV(estimator=RF_model, \n",
    "                           param_grid=params, \n",
    "                           cv=4, scoring = scoring_metrics, refit='accuracy')\n",
    "grid_search_RF.fit(X_train, y_train)\n"
   ]
  },
  {
   "cell_type": "code",
   "execution_count": 13,
   "id": "4af38f5b",
   "metadata": {},
   "outputs": [
    {
     "name": "stdout",
     "output_type": "stream",
     "text": [
      "En el caso anterior, se observa que el parámetro max_depth tiene un valor de 20, indicador que de mayores valores\n",
      " pueden suponer mejora, por lo que modificar el grill puede ser indicado en ese parámetro. \n",
      "Igualmente puede ocurrir con min_samples_split, el cual, parece indicar la búsqueda \n",
      "de valores menores y más continuados, por ejemplo: [8,9,10,11,12]\n"
     ]
    }
   ],
   "source": [
    "print('En el caso anterior, se observa que el parámetro max_depth tiene un valor de 20, indicador que de mayores valores\\n pueden suponer mejora, por lo que modificar el grill puede ser indicado en ese parámetro. \\nIgualmente puede ocurrir con min_samples_split, el cual, parece indicar la búsqueda \\nde valores menores y más continuados, por ejemplo: [8,9,10,11,12]')"
   ]
  },
  {
   "cell_type": "code",
   "execution_count": 14,
   "id": "cc0ca89e",
   "metadata": {},
   "outputs": [
    {
     "name": "stdout",
     "output_type": "stream",
     "text": [
      "RandomForestClassifier(bootstrap=False, criterion='entropy', max_depth=10,\n",
      "                       min_samples_leaf=10, min_samples_split=100,\n",
      "                       n_estimators=250, random_state=123)\n",
      "Precisión del árbol estándar: 0.6989247311827957\n"
     ]
    }
   ],
   "source": [
    "# Obtener el mejor modelo\n",
    "best_model_RF = grid_search_RF.best_estimator_\n",
    "print(grid_search_RF.best_estimator_)\n",
    "y_pred_rf = best_model_RF.predict(X_test)\n",
    "accuracy_rf_gs = accuracy_score(y_test, y_pred_rf)\n",
    "# Evaluar el rendimiento del modelo\n",
    "print(f'Precisión del árbol estándar: {accuracy_rf_gs}')"
   ]
  },
  {
   "cell_type": "code",
   "execution_count": 15,
   "id": "b47cb98f",
   "metadata": {},
   "outputs": [
    {
     "name": "stdout",
     "output_type": "stream",
     "text": [
      "Se tiene un accuracy para train de: 0.7886178861788617\n",
      "Se tiene un accuracy para test de: 0.6989247311827957\n",
      "Comprobar que la diferencia no sea muy grande por temas de sobreajuste\n"
     ]
    }
   ],
   "source": [
    "# se procede a observar el posible sobreajuste comparando predicciones en train y test.\n",
    "# predicciones significativamente mayores en train que en test puede indicar sobreajuste.\n",
    "# Predicciones en conjunto de entrenamiento y prueba\n",
    "y_train_pred = best_model_RF.predict(X_train)\n",
    "y_test_pred = best_model_RF.predict(X_test)\n",
    "print(f'Se tiene un accuracy para train de: {accuracy_score(y_train,y_train_pred)}')\n",
    "print(f'Se tiene un accuracy para test de: {accuracy_score(y_test,y_test_pred)}')\n",
    "print('Comprobar que la diferencia no sea muy grande por temas de sobreajuste')"
   ]
  },
  {
   "cell_type": "code",
   "execution_count": 16,
   "id": "2c31b822",
   "metadata": {},
   "outputs": [
    {
     "data": {
      "text/html": [
       "<div>\n",
       "<style scoped>\n",
       "    .dataframe tbody tr th:only-of-type {\n",
       "        vertical-align: middle;\n",
       "    }\n",
       "\n",
       "    .dataframe tbody tr th {\n",
       "        vertical-align: top;\n",
       "    }\n",
       "\n",
       "    .dataframe thead th {\n",
       "        text-align: right;\n",
       "    }\n",
       "</style>\n",
       "<table border=\"1\" class=\"dataframe\">\n",
       "  <thead>\n",
       "    <tr style=\"text-align: right;\">\n",
       "      <th></th>\n",
       "      <th>mean_fit_time</th>\n",
       "      <th>std_fit_time</th>\n",
       "      <th>mean_score_time</th>\n",
       "      <th>std_score_time</th>\n",
       "      <th>param_bootstrap</th>\n",
       "      <th>param_criterion</th>\n",
       "      <th>param_max_depth</th>\n",
       "      <th>param_min_samples_leaf</th>\n",
       "      <th>param_min_samples_split</th>\n",
       "      <th>param_n_estimators</th>\n",
       "      <th>...</th>\n",
       "      <th>mean_test_recall_macro</th>\n",
       "      <th>std_test_recall_macro</th>\n",
       "      <th>rank_test_recall_macro</th>\n",
       "      <th>split0_test_f1_macro</th>\n",
       "      <th>split1_test_f1_macro</th>\n",
       "      <th>split2_test_f1_macro</th>\n",
       "      <th>split3_test_f1_macro</th>\n",
       "      <th>mean_test_f1_macro</th>\n",
       "      <th>std_test_f1_macro</th>\n",
       "      <th>rank_test_f1_macro</th>\n",
       "    </tr>\n",
       "  </thead>\n",
       "  <tbody>\n",
       "    <tr>\n",
       "      <th>0</th>\n",
       "      <td>0.047379</td>\n",
       "      <td>0.005418</td>\n",
       "      <td>0.014250</td>\n",
       "      <td>0.002377</td>\n",
       "      <td>True</td>\n",
       "      <td>gini</td>\n",
       "      <td>2</td>\n",
       "      <td>3</td>\n",
       "      <td>5</td>\n",
       "      <td>50</td>\n",
       "      <td>...</td>\n",
       "      <td>0.583507</td>\n",
       "      <td>0.053125</td>\n",
       "      <td>1214</td>\n",
       "      <td>0.523688</td>\n",
       "      <td>0.469358</td>\n",
       "      <td>0.661711</td>\n",
       "      <td>0.611688</td>\n",
       "      <td>0.566611</td>\n",
       "      <td>0.074794</td>\n",
       "      <td>1218</td>\n",
       "    </tr>\n",
       "    <tr>\n",
       "      <th>1</th>\n",
       "      <td>0.104920</td>\n",
       "      <td>0.006516</td>\n",
       "      <td>0.011717</td>\n",
       "      <td>0.006765</td>\n",
       "      <td>True</td>\n",
       "      <td>gini</td>\n",
       "      <td>2</td>\n",
       "      <td>3</td>\n",
       "      <td>5</td>\n",
       "      <td>100</td>\n",
       "      <td>...</td>\n",
       "      <td>0.575342</td>\n",
       "      <td>0.042917</td>\n",
       "      <td>1263</td>\n",
       "      <td>0.523688</td>\n",
       "      <td>0.488889</td>\n",
       "      <td>0.641558</td>\n",
       "      <td>0.581818</td>\n",
       "      <td>0.558988</td>\n",
       "      <td>0.058093</td>\n",
       "      <td>1242</td>\n",
       "    </tr>\n",
       "    <tr>\n",
       "      <th>2</th>\n",
       "      <td>0.157067</td>\n",
       "      <td>0.006658</td>\n",
       "      <td>0.016570</td>\n",
       "      <td>0.000970</td>\n",
       "      <td>True</td>\n",
       "      <td>gini</td>\n",
       "      <td>2</td>\n",
       "      <td>3</td>\n",
       "      <td>5</td>\n",
       "      <td>150</td>\n",
       "      <td>...</td>\n",
       "      <td>0.577677</td>\n",
       "      <td>0.039296</td>\n",
       "      <td>1241</td>\n",
       "      <td>0.545626</td>\n",
       "      <td>0.469358</td>\n",
       "      <td>0.598927</td>\n",
       "      <td>0.623188</td>\n",
       "      <td>0.559275</td>\n",
       "      <td>0.059010</td>\n",
       "      <td>1241</td>\n",
       "    </tr>\n",
       "    <tr>\n",
       "      <th>3</th>\n",
       "      <td>0.211944</td>\n",
       "      <td>0.003825</td>\n",
       "      <td>0.017211</td>\n",
       "      <td>0.001671</td>\n",
       "      <td>True</td>\n",
       "      <td>gini</td>\n",
       "      <td>2</td>\n",
       "      <td>3</td>\n",
       "      <td>5</td>\n",
       "      <td>200</td>\n",
       "      <td>...</td>\n",
       "      <td>0.583633</td>\n",
       "      <td>0.041885</td>\n",
       "      <td>1210</td>\n",
       "      <td>0.553457</td>\n",
       "      <td>0.469358</td>\n",
       "      <td>0.620650</td>\n",
       "      <td>0.623188</td>\n",
       "      <td>0.566663</td>\n",
       "      <td>0.062754</td>\n",
       "      <td>1215</td>\n",
       "    </tr>\n",
       "    <tr>\n",
       "      <th>4</th>\n",
       "      <td>0.260736</td>\n",
       "      <td>0.003867</td>\n",
       "      <td>0.021430</td>\n",
       "      <td>0.009317</td>\n",
       "      <td>True</td>\n",
       "      <td>gini</td>\n",
       "      <td>2</td>\n",
       "      <td>3</td>\n",
       "      <td>5</td>\n",
       "      <td>250</td>\n",
       "      <td>...</td>\n",
       "      <td>0.583507</td>\n",
       "      <td>0.050774</td>\n",
       "      <td>1214</td>\n",
       "      <td>0.531143</td>\n",
       "      <td>0.469358</td>\n",
       "      <td>0.661711</td>\n",
       "      <td>0.602878</td>\n",
       "      <td>0.566272</td>\n",
       "      <td>0.072586</td>\n",
       "      <td>1220</td>\n",
       "    </tr>\n",
       "  </tbody>\n",
       "</table>\n",
       "<p>5 rows × 39 columns</p>\n",
       "</div>"
      ],
      "text/plain": [
       "   mean_fit_time  std_fit_time  mean_score_time  std_score_time  \\\n",
       "0       0.047379      0.005418         0.014250        0.002377   \n",
       "1       0.104920      0.006516         0.011717        0.006765   \n",
       "2       0.157067      0.006658         0.016570        0.000970   \n",
       "3       0.211944      0.003825         0.017211        0.001671   \n",
       "4       0.260736      0.003867         0.021430        0.009317   \n",
       "\n",
       "  param_bootstrap param_criterion param_max_depth param_min_samples_leaf  \\\n",
       "0            True            gini               2                      3   \n",
       "1            True            gini               2                      3   \n",
       "2            True            gini               2                      3   \n",
       "3            True            gini               2                      3   \n",
       "4            True            gini               2                      3   \n",
       "\n",
       "  param_min_samples_split param_n_estimators  ... mean_test_recall_macro  \\\n",
       "0                       5                 50  ...               0.583507   \n",
       "1                       5                100  ...               0.575342   \n",
       "2                       5                150  ...               0.577677   \n",
       "3                       5                200  ...               0.583633   \n",
       "4                       5                250  ...               0.583507   \n",
       "\n",
       "   std_test_recall_macro  rank_test_recall_macro  split0_test_f1_macro  \\\n",
       "0               0.053125                    1214              0.523688   \n",
       "1               0.042917                    1263              0.523688   \n",
       "2               0.039296                    1241              0.545626   \n",
       "3               0.041885                    1210              0.553457   \n",
       "4               0.050774                    1214              0.531143   \n",
       "\n",
       "   split1_test_f1_macro  split2_test_f1_macro  split3_test_f1_macro  \\\n",
       "0              0.469358              0.661711              0.611688   \n",
       "1              0.488889              0.641558              0.581818   \n",
       "2              0.469358              0.598927              0.623188   \n",
       "3              0.469358              0.620650              0.623188   \n",
       "4              0.469358              0.661711              0.602878   \n",
       "\n",
       "   mean_test_f1_macro  std_test_f1_macro  rank_test_f1_macro  \n",
       "0            0.566611           0.074794                1218  \n",
       "1            0.558988           0.058093                1242  \n",
       "2            0.559275           0.059010                1241  \n",
       "3            0.566663           0.062754                1215  \n",
       "4            0.566272           0.072586                1220  \n",
       "\n",
       "[5 rows x 39 columns]"
      ]
     },
     "execution_count": 16,
     "metadata": {},
     "output_type": "execute_result"
    }
   ],
   "source": [
    "# Obtener resultados del grid search\n",
    "results = pd.DataFrame(grid_search_RF.cv_results_)\n",
    "results.head()"
   ]
  },
  {
   "cell_type": "code",
   "execution_count": 72,
   "id": "a87788f0",
   "metadata": {},
   "outputs": [
    {
     "name": "stdout",
     "output_type": "stream",
     "text": [
      "Index(['mean_fit_time', 'std_fit_time', 'mean_score_time', 'std_score_time',\n",
      "       'param_bootstrap', 'param_criterion', 'param_max_depth',\n",
      "       'param_min_samples_leaf', 'param_min_samples_split',\n",
      "       'param_n_estimators', 'params', 'split0_test_accuracy',\n",
      "       'split1_test_accuracy', 'split2_test_accuracy', 'split3_test_accuracy',\n",
      "       'mean_test_accuracy', 'std_test_accuracy', 'rank_test_accuracy',\n",
      "       'split0_test_precision_macro', 'split1_test_precision_macro',\n",
      "       'split2_test_precision_macro', 'split3_test_precision_macro',\n",
      "       'mean_test_precision_macro', 'std_test_precision_macro',\n",
      "       'rank_test_precision_macro', 'split0_test_recall_macro',\n",
      "       'split1_test_recall_macro', 'split2_test_recall_macro',\n",
      "       'split3_test_recall_macro', 'mean_test_recall_macro',\n",
      "       'std_test_recall_macro', 'rank_test_recall_macro',\n",
      "       'split0_test_f1_macro', 'split1_test_f1_macro', 'split2_test_f1_macro',\n",
      "       'split3_test_f1_macro', 'mean_test_f1_macro', 'std_test_f1_macro',\n",
      "       'rank_test_f1_macro'],\n",
      "      dtype='object')\n"
     ]
    }
   ],
   "source": [
    "print(results.columns)"
   ]
  },
  {
   "cell_type": "code",
   "execution_count": 17,
   "id": "8834e433",
   "metadata": {
    "scrolled": false
   },
   "outputs": [
    {
     "name": "stdout",
     "output_type": "stream",
     "text": [
      "      mean_fit_time  std_fit_time  mean_score_time  std_score_time  \\\n",
      "1052       0.202205      0.006960         0.016118        0.003887   \n",
      "421        0.101538      0.007811         0.011723        0.006768   \n",
      "977        0.206296      0.003505         0.014989        0.004415   \n",
      "1054       0.334559      0.007696         0.020954        0.006914   \n",
      "981        0.128221      0.006265         0.012097        0.006993   \n",
      "\n",
      "     param_bootstrap param_criterion param_max_depth param_min_samples_leaf  \\\n",
      "1052           False            gini              20                      3   \n",
      "421             True         entropy               2                     10   \n",
      "977            False            gini              10                      3   \n",
      "1054           False            gini              20                      3   \n",
      "981            False            gini              10                      3   \n",
      "\n",
      "     param_min_samples_split param_n_estimators  ... mean_test_recall_macro  \\\n",
      "1052                       5                150  ...               0.594024   \n",
      "421                      100                100  ...               0.530625   \n",
      "977                        5                150  ...               0.594285   \n",
      "1054                       5                250  ...               0.596108   \n",
      "981                       10                100  ...               0.594225   \n",
      "\n",
      "      std_test_recall_macro  rank_test_recall_macro  split0_test_f1_macro  \\\n",
      "1052               0.041808                    1150              0.522415   \n",
      "421                0.015585                    1500              0.458562   \n",
      "977                0.045500                    1147              0.522415   \n",
      "1054               0.051148                    1120              0.504209   \n",
      "981                0.030065                    1148              0.546211   \n",
      "\n",
      "      split1_test_f1_macro  split2_test_f1_macro  split3_test_f1_macro  \\\n",
      "1052              0.598027              0.622332              0.640625   \n",
      "421               0.475639              0.481982              0.520833   \n",
      "977               0.580627              0.640625              0.640625   \n",
      "1054              0.606838              0.638237              0.640625   \n",
      "981               0.598027              0.640625              0.598027   \n",
      "\n",
      "      mean_test_f1_macro  std_test_f1_macro  rank_test_f1_macro  \n",
      "1052            0.595850           0.045010                1078  \n",
      "421             0.484254           0.022790                1500  \n",
      "977             0.596073           0.049076                1074  \n",
      "1054            0.597477           0.055475                1062  \n",
      "981             0.595722           0.033460                1079  \n",
      "\n",
      "[5 rows x 39 columns]\n"
     ]
    }
   ],
   "source": [
    "# Ordenar el DataFrame por la métrica de interés (por ejemplo, accuracy)\n",
    "sorted_results = results.sort_values(by='mean_test_accuracy', ascending=True).head(5)\n",
    "print(sorted_results)"
   ]
  },
  {
   "cell_type": "code",
   "execution_count": 18,
   "id": "b87b890d",
   "metadata": {},
   "outputs": [],
   "source": [
    "# se selecciona el modelo candidato, y se procede a analizar su robustez a lo largo de cross validation.\n",
    "res_1 = sorted_results[['split0_test_accuracy', 'split1_test_accuracy','split2_test_accuracy', 'split3_test_accuracy']].iloc[0]\n",
    "res_2 = sorted_results[['split0_test_accuracy', 'split1_test_accuracy','split2_test_accuracy', 'split3_test_accuracy']].iloc[1]\n",
    "res_3 = sorted_results[['split0_test_accuracy', 'split1_test_accuracy','split2_test_accuracy', 'split3_test_accuracy']].iloc[2]\n",
    "res_4 = sorted_results[['split0_test_accuracy', 'split1_test_accuracy','split2_test_accuracy', 'split3_test_accuracy']].iloc[3]\n",
    "res_5 = sorted_results[['split0_test_accuracy', 'split1_test_accuracy','split2_test_accuracy', 'split3_test_accuracy']].iloc[4]"
   ]
  },
  {
   "cell_type": "code",
   "execution_count": 19,
   "id": "30ef9f63",
   "metadata": {},
   "outputs": [
    {
     "data": {
      "image/png": "[encoded data removed]",
      "text/plain": [
       "<Figure size 640x480 with 1 Axes>"
      ]
     },
     "metadata": {},
     "output_type": "display_data"
    }
   ],
   "source": [
    "# Crear un boxplot para los cuatro valores de accuracy\n",
    "plt.boxplot([res_1.values,res_2.values,res_3.values,res_4.values,res_5.values], labels = ['res_1','res_2','res_3','res_4','res_5'])\n",
    "plt.title('Boxplots de Accuracy para los 4 Splits')\n",
    "plt.xlabel('Splits de Cross Validation')\n",
    "plt.ylabel('Accuracy')\n",
    "plt.show()\n",
    "# Nótese en la solución que boxplots con gran amplitud no son deseables, ya que se caracterizan por poca robustez de la solución"
   ]
  },
  {
   "cell_type": "code",
   "execution_count": 20,
   "id": "e67b705c",
   "metadata": {},
   "outputs": [],
   "source": [
    "# seleccionemos el segundo modelo dada su mayor robustez con respecto al propuesto por GridSearch\n",
    "# nótese que \"**\" es para desempaquetar una lista de valores.\n",
    "random_f_2 = RandomForestClassifier(**sorted_results['params'].iloc[1],random_state=123)\n",
    "random_f_2.fit(X_train, y_train)\n",
    "res_rf_2 = random_f_2.predict(X_test)"
   ]
  },
  {
   "cell_type": "code",
   "execution_count": 1,
   "id": "d83a6e99",
   "metadata": {},
   "outputs": [
    {
     "ename": "NameError",
     "evalue": "name 'accuracy_score' is not defined",
     "output_type": "error",
     "traceback": [
      "\u001b[0;31m---------------------------------------------------------------------------\u001b[0m",
      "\u001b[0;31mNameError\u001b[0m                                 Traceback (most recent call last)",
      "Cell \u001b[0;32mIn[1], line 1\u001b[0m\n\u001b[0;32m----> 1\u001b[0m accuracy_score(y_test,res_rf_2)\n",
      "\u001b[0;31mNameError\u001b[0m: name 'accuracy_score' is not defined"
     ]
    }
   ],
   "source": [
    "accuracy_score(y_test,res_rf_2)"
   ]
  },
  {
   "cell_type": "code",
   "execution_count": 24,
   "id": "5adb2274",
   "metadata": {},
   "outputs": [
    {
     "data": {
      "text/html": [
       "<div>\n",
       "<style scoped>\n",
       "    .dataframe tbody tr th:only-of-type {\n",
       "        vertical-align: middle;\n",
       "    }\n",
       "\n",
       "    .dataframe tbody tr th {\n",
       "        vertical-align: top;\n",
       "    }\n",
       "\n",
       "    .dataframe thead th {\n",
       "        text-align: right;\n",
       "    }\n",
       "</style>\n",
       "<table border=\"1\" class=\"dataframe\">\n",
       "  <thead>\n",
       "    <tr style=\"text-align: right;\">\n",
       "      <th></th>\n",
       "      <th>std_test_recall_macro</th>\n",
       "    </tr>\n",
       "  </thead>\n",
       "  <tbody>\n",
       "    <tr>\n",
       "      <th>1052</th>\n",
       "      <td>0.041808</td>\n",
       "    </tr>\n",
       "    <tr>\n",
       "      <th>421</th>\n",
       "      <td>0.015585</td>\n",
       "    </tr>\n",
       "    <tr>\n",
       "      <th>977</th>\n",
       "      <td>0.045500</td>\n",
       "    </tr>\n",
       "    <tr>\n",
       "      <th>1054</th>\n",
       "      <td>0.051148</td>\n",
       "    </tr>\n",
       "    <tr>\n",
       "      <th>981</th>\n",
       "      <td>0.030065</td>\n",
       "    </tr>\n",
       "  </tbody>\n",
       "</table>\n",
       "</div>"
      ],
      "text/plain": [
       "      std_test_recall_macro\n",
       "1052               0.041808\n",
       "421                0.015585\n",
       "977                0.045500\n",
       "1054               0.051148\n",
       "981                0.030065"
      ]
     },
     "execution_count": 24,
     "metadata": {},
     "output_type": "execute_result"
    }
   ],
   "source": [
    "# Si se quiere conocer quién tiene mayor robustez en sensibilidad por cuestiones de criterio exógeno:\n",
    "sorted_results[['std_test_recall_macro']]"
   ]
  },
  {
   "cell_type": "code",
   "execution_count": null,
   "id": "86075b92",
   "metadata": {},
   "outputs": [],
   "source": [
    "print('Resultados para Modelo')\n",
    "print(classification_report(y_test, res_rf_2))"
   ]
  },
  {
   "cell_type": "markdown",
   "id": "3c533b34",
   "metadata": {},
   "source": [
    "A CONTINUACIÓN, SE REALIZARÁ EL EJEMPLO PARA EL CASO DE PROBLEMAS DE REGRESIÓN."
   ]
  },
  {
   "cell_type": "code",
   "execution_count": 26,
   "id": "3e28b847",
   "metadata": {},
   "outputs": [
    {
     "data": {
      "text/html": [
       "<div>\n",
       "<style scoped>\n",
       "    .dataframe tbody tr th:only-of-type {\n",
       "        vertical-align: middle;\n",
       "    }\n",
       "\n",
       "    .dataframe tbody tr th {\n",
       "        vertical-align: top;\n",
       "    }\n",
       "\n",
       "    .dataframe thead th {\n",
       "        text-align: right;\n",
       "    }\n",
       "</style>\n",
       "<table border=\"1\" class=\"dataframe\">\n",
       "  <thead>\n",
       "    <tr style=\"text-align: right;\">\n",
       "      <th></th>\n",
       "      <th>cstrength</th>\n",
       "      <th>cement</th>\n",
       "      <th>blast</th>\n",
       "      <th>ash</th>\n",
       "      <th>water</th>\n",
       "      <th>plasti</th>\n",
       "      <th>aggreg</th>\n",
       "      <th>fineagg</th>\n",
       "      <th>age</th>\n",
       "    </tr>\n",
       "  </thead>\n",
       "  <tbody>\n",
       "    <tr>\n",
       "      <th>0</th>\n",
       "      <td>79.99</td>\n",
       "      <td>540.0</td>\n",
       "      <td>0.0</td>\n",
       "      <td>0.0</td>\n",
       "      <td>162.0</td>\n",
       "      <td>2.5</td>\n",
       "      <td>1040.0</td>\n",
       "      <td>676.0</td>\n",
       "      <td>28</td>\n",
       "    </tr>\n",
       "    <tr>\n",
       "      <th>1</th>\n",
       "      <td>61.89</td>\n",
       "      <td>540.0</td>\n",
       "      <td>0.0</td>\n",
       "      <td>0.0</td>\n",
       "      <td>162.0</td>\n",
       "      <td>2.5</td>\n",
       "      <td>1055.0</td>\n",
       "      <td>676.0</td>\n",
       "      <td>28</td>\n",
       "    </tr>\n",
       "    <tr>\n",
       "      <th>2</th>\n",
       "      <td>40.27</td>\n",
       "      <td>332.5</td>\n",
       "      <td>142.5</td>\n",
       "      <td>0.0</td>\n",
       "      <td>228.0</td>\n",
       "      <td>0.0</td>\n",
       "      <td>932.0</td>\n",
       "      <td>594.0</td>\n",
       "      <td>270</td>\n",
       "    </tr>\n",
       "    <tr>\n",
       "      <th>3</th>\n",
       "      <td>41.05</td>\n",
       "      <td>332.5</td>\n",
       "      <td>142.5</td>\n",
       "      <td>0.0</td>\n",
       "      <td>228.0</td>\n",
       "      <td>0.0</td>\n",
       "      <td>932.0</td>\n",
       "      <td>594.0</td>\n",
       "      <td>365</td>\n",
       "    </tr>\n",
       "    <tr>\n",
       "      <th>4</th>\n",
       "      <td>44.30</td>\n",
       "      <td>198.6</td>\n",
       "      <td>132.4</td>\n",
       "      <td>0.0</td>\n",
       "      <td>192.0</td>\n",
       "      <td>0.0</td>\n",
       "      <td>978.4</td>\n",
       "      <td>825.5</td>\n",
       "      <td>360</td>\n",
       "    </tr>\n",
       "  </tbody>\n",
       "</table>\n",
       "</div>"
      ],
      "text/plain": [
       "   cstrength  cement  blast  ash  water  plasti  aggreg  fineagg  age\n",
       "0      79.99   540.0    0.0  0.0  162.0     2.5  1040.0    676.0   28\n",
       "1      61.89   540.0    0.0  0.0  162.0     2.5  1055.0    676.0   28\n",
       "2      40.27   332.5  142.5  0.0  228.0     0.0   932.0    594.0  270\n",
       "3      41.05   332.5  142.5  0.0  228.0     0.0   932.0    594.0  365\n",
       "4      44.30   198.6  132.4  0.0  192.0     0.0   978.4    825.5  360"
      ]
     },
     "execution_count": 26,
     "metadata": {},
     "output_type": "execute_result"
    }
   ],
   "source": [
    "file_path = 'C:/Users/user/OneDrive - Universidad Complutense de Madrid (UCM)/Escritorio/A_Doctorado/23/00_DOCENCIA/Máster Tit_Propio/Árboles/compress.csv'  # Reemplaza con la ruta correcta de tu archivo\n",
    "file_path_3 = 'E:/OneDrive - Universidad Complutense de Madrid (UCM)/Escritorio/A_Doctorado/23/00_DOCENCIA/Máster Tit_Propio/Árboles/compress.csv'  # Reemplaza con la ruta correcta de tu archivo\n",
    "\n",
    "compress = pd.read_csv(file_path_3)\n",
    "compress.head()"
   ]
  },
  {
   "cell_type": "code",
   "execution_count": 28,
   "id": "358e3f0a",
   "metadata": {},
   "outputs": [
    {
     "data": {
      "text/html": [
       "<style>#sk-container-id-2 {color: black;}#sk-container-id-2 pre{padding: 0;}#sk-container-id-2 div.sk-toggleable {background-color: white;}#sk-container-id-2 label.sk-toggleable__label {cursor: pointer;display: block;width: 100%;margin-bottom: 0;padding: 0.3em;box-sizing: border-box;text-align: center;}#sk-container-id-2 label.sk-toggleable__label-arrow:before {content: \"▸\";float: left;margin-right: 0.25em;color: #696969;}#sk-container-id-2 label.sk-toggleable__label-arrow:hover:before {color: black;}#sk-container-id-2 div.sk-estimator:hover label.sk-toggleable__label-arrow:before {color: black;}#sk-container-id-2 div.sk-toggleable__content {max-height: 0;max-width: 0;overflow: hidden;text-align: left;background-color: #f0f8ff;}#sk-container-id-2 div.sk-toggleable__content pre {margin: 0.2em;color: black;border-radius: 0.25em;background-color: #f0f8ff;}#sk-container-id-2 input.sk-toggleable__control:checked~div.sk-toggleable__content {max-height: 200px;max-width: 100%;overflow: auto;}#sk-container-id-2 input.sk-toggleable__control:checked~label.sk-toggleable__label-arrow:before {content: \"▾\";}#sk-container-id-2 div.sk-estimator input.sk-toggleable__control:checked~label.sk-toggleable__label {background-color: #d4ebff;}#sk-container-id-2 div.sk-label input.sk-toggleable__control:checked~label.sk-toggleable__label {background-color: #d4ebff;}#sk-container-id-2 input.sk-hidden--visually {border: 0;clip: rect(1px 1px 1px 1px);clip: rect(1px, 1px, 1px, 1px);height: 1px;margin: -1px;overflow: hidden;padding: 0;position: absolute;width: 1px;}#sk-container-id-2 div.sk-estimator {font-family: monospace;background-color: #f0f8ff;border: 1px dotted black;border-radius: 0.25em;box-sizing: border-box;margin-bottom: 0.5em;}#sk-container-id-2 div.sk-estimator:hover {background-color: #d4ebff;}#sk-container-id-2 div.sk-parallel-item::after {content: \"\";width: 100%;border-bottom: 1px solid gray;flex-grow: 1;}#sk-container-id-2 div.sk-label:hover label.sk-toggleable__label {background-color: #d4ebff;}#sk-container-id-2 div.sk-serial::before {content: \"\";position: absolute;border-left: 1px solid gray;box-sizing: border-box;top: 0;bottom: 0;left: 50%;z-index: 0;}#sk-container-id-2 div.sk-serial {display: flex;flex-direction: column;align-items: center;background-color: white;padding-right: 0.2em;padding-left: 0.2em;position: relative;}#sk-container-id-2 div.sk-item {position: relative;z-index: 1;}#sk-container-id-2 div.sk-parallel {display: flex;align-items: stretch;justify-content: center;background-color: white;position: relative;}#sk-container-id-2 div.sk-item::before, #sk-container-id-2 div.sk-parallel-item::before {content: \"\";position: absolute;border-left: 1px solid gray;box-sizing: border-box;top: 0;bottom: 0;left: 50%;z-index: -1;}#sk-container-id-2 div.sk-parallel-item {display: flex;flex-direction: column;z-index: 1;position: relative;background-color: white;}#sk-container-id-2 div.sk-parallel-item:first-child::after {align-self: flex-end;width: 50%;}#sk-container-id-2 div.sk-parallel-item:last-child::after {align-self: flex-start;width: 50%;}#sk-container-id-2 div.sk-parallel-item:only-child::after {width: 0;}#sk-container-id-2 div.sk-dashed-wrapped {border: 1px dashed gray;margin: 0 0.4em 0.5em 0.4em;box-sizing: border-box;padding-bottom: 0.4em;background-color: white;}#sk-container-id-2 div.sk-label label {font-family: monospace;font-weight: bold;display: inline-block;line-height: 1.2em;}#sk-container-id-2 div.sk-label-container {text-align: center;}#sk-container-id-2 div.sk-container {/* jupyter's `normalize.less` sets `[hidden] { display: none; }` but bootstrap.min.css set `[hidden] { display: none !important; }` so we also need the `!important` here to be able to override the default hidden behavior on the sphinx rendered scikit-learn.org. See: https://github.com/scikit-learn/scikit-learn/issues/21755 */display: inline-block !important;position: relative;}#sk-container-id-2 div.sk-text-repr-fallback {display: none;}</style><div id=\"sk-container-id-2\" class=\"sk-top-container\"><div class=\"sk-text-repr-fallback\"><pre>RandomForestRegressor(criterion=&#x27;absolute_error&#x27;, max_depth=20,\n",
       "                      min_samples_leaf=10, min_samples_split=10,\n",
       "                      n_estimators=60, random_state=123)</pre><b>In a Jupyter environment, please rerun this cell to show the HTML representation or trust the notebook. <br />On GitHub, the HTML representation is unable to render, please try loading this page with nbviewer.org.</b></div><div class=\"sk-container\" hidden><div class=\"sk-item\"><div class=\"sk-estimator sk-toggleable\"><input class=\"sk-toggleable__control sk-hidden--visually\" id=\"sk-estimator-id-4\" type=\"checkbox\" checked><label for=\"sk-estimator-id-4\" class=\"sk-toggleable__label sk-toggleable__label-arrow\">RandomForestRegressor</label><div class=\"sk-toggleable__content\"><pre>RandomForestRegressor(criterion=&#x27;absolute_error&#x27;, max_depth=20,\n",
       "                      min_samples_leaf=10, min_samples_split=10,\n",
       "                      n_estimators=60, random_state=123)</pre></div></div></div></div></div>"
      ],
      "text/plain": [
       "RandomForestRegressor(criterion='absolute_error', max_depth=20,\n",
       "                      min_samples_leaf=10, min_samples_split=10,\n",
       "                      n_estimators=60, random_state=123)"
      ]
     },
     "execution_count": 28,
     "metadata": {},
     "output_type": "execute_result"
    }
   ],
   "source": [
    "# Separar las variables predictoras y la variable de respuesta.\n",
    "X_c = compress.drop('cstrength', axis=1)\n",
    "y_c = compress['cstrength']\n",
    "\n",
    "RF_R = RandomForestRegressor(n_estimators = 60,bootstrap = True, max_depth = 20, min_samples_split=10, criterion='absolute_error',min_samples_leaf = 10,random_state=123)\n",
    "# Crear un conjunto de entrenamiento y uno de prueba\n",
    "X_train_c, X_test_c, y_train_c, y_test_c = train_test_split(X_c, y_c, test_size=0.2, random_state=123)\n",
    "# Construir el modelo de árbol de decisiones\n",
    "RF_R.fit(X_train_c, y_train_c)"
   ]
  },
  {
   "cell_type": "code",
   "execution_count": 31,
   "id": "a971f40a",
   "metadata": {},
   "outputs": [
    {
     "name": "stdout",
     "output_type": "stream",
     "text": [
      "MAE del modelo en train:4.046392597087379\n",
      "MAE del modelo en test:4.916126618122975\n"
     ]
    }
   ],
   "source": [
    "#se valora el posible sobreajuste\n",
    "pred_rf_c_train = RF_R.predict(X_train_c)\n",
    "pred_rf_c_test = RF_R.predict(X_test_c)\n",
    "print(f'MAE del modelo en train:{mean_absolute_error(y_train_c,pred_rf_c_train)}')\n",
    "print(f'MAE del modelo en test:{mean_absolute_error(y_test_c,pred_rf_c)}')"
   ]
  },
  {
   "cell_type": "code",
   "execution_count": null,
   "id": "0d17fb07",
   "metadata": {},
   "outputs": [],
   "source": [
    "# En caso de necesitar probar diferentes parametrizaciones. En este caso, iremos directamente a la validación cruzada.\n",
    "params_c = {\n",
    "    'max_depth': [2, 3, 5, 10, 20],\n",
    "    'min_samples_split': [5, 10, 20, 50, 100],\n",
    "    'criterion': ['squared_error', 'friedman_mse', 'absolute_error', 'poisson']\n",
    "}\n",
    "# Definir las métricas de evaluación que deseas utilizar\n",
    "\n"
   ]
  },
  {
   "cell_type": "code",
   "execution_count": 58,
   "id": "7f2d8c10",
   "metadata": {},
   "outputs": [
    {
     "name": "stdout",
     "output_type": "stream",
     "text": [
      "{'bootstrap': True, 'ccp_alpha': 0.0, 'criterion': 'absolute_error', 'max_depth': 20, 'max_features': 1.0, 'max_leaf_nodes': None, 'max_samples': None, 'min_impurity_decrease': 0.0, 'min_samples_leaf': 10, 'min_samples_split': 10, 'min_weight_fraction_leaf': 0.0, 'n_estimators': 60, 'n_jobs': None, 'oob_score': False, 'random_state': 123, 'verbose': 0, 'warm_start': False}\n"
     ]
    }
   ],
   "source": [
    "print(RF_R.get_params())"
   ]
  },
  {
   "cell_type": "code",
   "execution_count": 60,
   "id": "384d7ae3",
   "metadata": {
    "scrolled": true
   },
   "outputs": [
    {
     "data": {
      "text/html": [
       "<style>#sk-container-id-4 {color: black;}#sk-container-id-4 pre{padding: 0;}#sk-container-id-4 div.sk-toggleable {background-color: white;}#sk-container-id-4 label.sk-toggleable__label {cursor: pointer;display: block;width: 100%;margin-bottom: 0;padding: 0.3em;box-sizing: border-box;text-align: center;}#sk-container-id-4 label.sk-toggleable__label-arrow:before {content: \"▸\";float: left;margin-right: 0.25em;color: #696969;}#sk-container-id-4 label.sk-toggleable__label-arrow:hover:before {color: black;}#sk-container-id-4 div.sk-estimator:hover label.sk-toggleable__label-arrow:before {color: black;}#sk-container-id-4 div.sk-toggleable__content {max-height: 0;max-width: 0;overflow: hidden;text-align: left;background-color: #f0f8ff;}#sk-container-id-4 div.sk-toggleable__content pre {margin: 0.2em;color: black;border-radius: 0.25em;background-color: #f0f8ff;}#sk-container-id-4 input.sk-toggleable__control:checked~div.sk-toggleable__content {max-height: 200px;max-width: 100%;overflow: auto;}#sk-container-id-4 input.sk-toggleable__control:checked~label.sk-toggleable__label-arrow:before {content: \"▾\";}#sk-container-id-4 div.sk-estimator input.sk-toggleable__control:checked~label.sk-toggleable__label {background-color: #d4ebff;}#sk-container-id-4 div.sk-label input.sk-toggleable__control:checked~label.sk-toggleable__label {background-color: #d4ebff;}#sk-container-id-4 input.sk-hidden--visually {border: 0;clip: rect(1px 1px 1px 1px);clip: rect(1px, 1px, 1px, 1px);height: 1px;margin: -1px;overflow: hidden;padding: 0;position: absolute;width: 1px;}#sk-container-id-4 div.sk-estimator {font-family: monospace;background-color: #f0f8ff;border: 1px dotted black;border-radius: 0.25em;box-sizing: border-box;margin-bottom: 0.5em;}#sk-container-id-4 div.sk-estimator:hover {background-color: #d4ebff;}#sk-container-id-4 div.sk-parallel-item::after {content: \"\";width: 100%;border-bottom: 1px solid gray;flex-grow: 1;}#sk-container-id-4 div.sk-label:hover label.sk-toggleable__label {background-color: #d4ebff;}#sk-container-id-4 div.sk-serial::before {content: \"\";position: absolute;border-left: 1px solid gray;box-sizing: border-box;top: 0;bottom: 0;left: 50%;z-index: 0;}#sk-container-id-4 div.sk-serial {display: flex;flex-direction: column;align-items: center;background-color: white;padding-right: 0.2em;padding-left: 0.2em;position: relative;}#sk-container-id-4 div.sk-item {position: relative;z-index: 1;}#sk-container-id-4 div.sk-parallel {display: flex;align-items: stretch;justify-content: center;background-color: white;position: relative;}#sk-container-id-4 div.sk-item::before, #sk-container-id-4 div.sk-parallel-item::before {content: \"\";position: absolute;border-left: 1px solid gray;box-sizing: border-box;top: 0;bottom: 0;left: 50%;z-index: -1;}#sk-container-id-4 div.sk-parallel-item {display: flex;flex-direction: column;z-index: 1;position: relative;background-color: white;}#sk-container-id-4 div.sk-parallel-item:first-child::after {align-self: flex-end;width: 50%;}#sk-container-id-4 div.sk-parallel-item:last-child::after {align-self: flex-start;width: 50%;}#sk-container-id-4 div.sk-parallel-item:only-child::after {width: 0;}#sk-container-id-4 div.sk-dashed-wrapped {border: 1px dashed gray;margin: 0 0.4em 0.5em 0.4em;box-sizing: border-box;padding-bottom: 0.4em;background-color: white;}#sk-container-id-4 div.sk-label label {font-family: monospace;font-weight: bold;display: inline-block;line-height: 1.2em;}#sk-container-id-4 div.sk-label-container {text-align: center;}#sk-container-id-4 div.sk-container {/* jupyter's `normalize.less` sets `[hidden] { display: none; }` but bootstrap.min.css set `[hidden] { display: none !important; }` so we also need the `!important` here to be able to override the default hidden behavior on the sphinx rendered scikit-learn.org. See: https://github.com/scikit-learn/scikit-learn/issues/21755 */display: inline-block !important;position: relative;}#sk-container-id-4 div.sk-text-repr-fallback {display: none;}</style><div id=\"sk-container-id-4\" class=\"sk-top-container\"><div class=\"sk-text-repr-fallback\"><pre>GridSearchCV(cv=4,\n",
       "             estimator=RandomForestRegressor(criterion=&#x27;absolute_error&#x27;,\n",
       "                                             max_depth=20, min_samples_leaf=10,\n",
       "                                             min_samples_split=10,\n",
       "                                             n_estimators=60,\n",
       "                                             random_state=123),\n",
       "             param_grid={&#x27;bootstrap&#x27;: [True], &#x27;criterion&#x27;: [&#x27;absolute_error&#x27;],\n",
       "                         &#x27;max_depth&#x27;: [20], &#x27;max_features&#x27;: [1.0],\n",
       "                         &#x27;min_samples_leaf&#x27;: [10], &#x27;min_samples_split&#x27;: [10],\n",
       "                         &#x27;n_estimators&#x27;: [60], &#x27;random_state&#x27;: [123]},\n",
       "             refit=&#x27;MAE&#x27;,\n",
       "             scoring={&#x27;MAE&#x27;: make_scorer(mean_absolute_error),\n",
       "                      &#x27;MSE&#x27;: make_scorer(mean_squared_error)})</pre><b>In a Jupyter environment, please rerun this cell to show the HTML representation or trust the notebook. <br />On GitHub, the HTML representation is unable to render, please try loading this page with nbviewer.org.</b></div><div class=\"sk-container\" hidden><div class=\"sk-item sk-dashed-wrapped\"><div class=\"sk-label-container\"><div class=\"sk-label sk-toggleable\"><input class=\"sk-toggleable__control sk-hidden--visually\" id=\"sk-estimator-id-8\" type=\"checkbox\" ><label for=\"sk-estimator-id-8\" class=\"sk-toggleable__label sk-toggleable__label-arrow\">GridSearchCV</label><div class=\"sk-toggleable__content\"><pre>GridSearchCV(cv=4,\n",
       "             estimator=RandomForestRegressor(criterion=&#x27;absolute_error&#x27;,\n",
       "                                             max_depth=20, min_samples_leaf=10,\n",
       "                                             min_samples_split=10,\n",
       "                                             n_estimators=60,\n",
       "                                             random_state=123),\n",
       "             param_grid={&#x27;bootstrap&#x27;: [True], &#x27;criterion&#x27;: [&#x27;absolute_error&#x27;],\n",
       "                         &#x27;max_depth&#x27;: [20], &#x27;max_features&#x27;: [1.0],\n",
       "                         &#x27;min_samples_leaf&#x27;: [10], &#x27;min_samples_split&#x27;: [10],\n",
       "                         &#x27;n_estimators&#x27;: [60], &#x27;random_state&#x27;: [123]},\n",
       "             refit=&#x27;MAE&#x27;,\n",
       "             scoring={&#x27;MAE&#x27;: make_scorer(mean_absolute_error),\n",
       "                      &#x27;MSE&#x27;: make_scorer(mean_squared_error)})</pre></div></div></div><div class=\"sk-parallel\"><div class=\"sk-parallel-item\"><div class=\"sk-item\"><div class=\"sk-label-container\"><div class=\"sk-label sk-toggleable\"><input class=\"sk-toggleable__control sk-hidden--visually\" id=\"sk-estimator-id-9\" type=\"checkbox\" ><label for=\"sk-estimator-id-9\" class=\"sk-toggleable__label sk-toggleable__label-arrow\">estimator: RandomForestRegressor</label><div class=\"sk-toggleable__content\"><pre>RandomForestRegressor(criterion=&#x27;absolute_error&#x27;, max_depth=20,\n",
       "                      min_samples_leaf=10, min_samples_split=10,\n",
       "                      n_estimators=60, random_state=123)</pre></div></div></div><div class=\"sk-serial\"><div class=\"sk-item\"><div class=\"sk-estimator sk-toggleable\"><input class=\"sk-toggleable__control sk-hidden--visually\" id=\"sk-estimator-id-10\" type=\"checkbox\" ><label for=\"sk-estimator-id-10\" class=\"sk-toggleable__label sk-toggleable__label-arrow\">RandomForestRegressor</label><div class=\"sk-toggleable__content\"><pre>RandomForestRegressor(criterion=&#x27;absolute_error&#x27;, max_depth=20,\n",
       "                      min_samples_leaf=10, min_samples_split=10,\n",
       "                      n_estimators=60, random_state=123)</pre></div></div></div></div></div></div></div></div></div></div>"
      ],
      "text/plain": [
       "GridSearchCV(cv=4,\n",
       "             estimator=RandomForestRegressor(criterion='absolute_error',\n",
       "                                             max_depth=20, min_samples_leaf=10,\n",
       "                                             min_samples_split=10,\n",
       "                                             n_estimators=60,\n",
       "                                             random_state=123),\n",
       "             param_grid={'bootstrap': [True], 'criterion': ['absolute_error'],\n",
       "                         'max_depth': [20], 'max_features': [1.0],\n",
       "                         'min_samples_leaf': [10], 'min_samples_split': [10],\n",
       "                         'n_estimators': [60], 'random_state': [123]},\n",
       "             refit='MAE',\n",
       "             scoring={'MAE': make_scorer(mean_absolute_error),\n",
       "                      'MSE': make_scorer(mean_squared_error)})"
      ]
     },
     "execution_count": 60,
     "metadata": {},
     "output_type": "execute_result"
    }
   ],
   "source": [
    "scoring_metrics_c = {\n",
    "    'MAE': make_scorer(mean_absolute_error),\n",
    "    'MSE': make_scorer(mean_squared_error)\n",
    "}\n",
    "# los parámetros necesitan presentar formato lista.\n",
    "params = {\n",
    "    'bootstrap': [True], \n",
    "    'criterion': ['absolute_error'], \n",
    "    'max_depth': [20], \n",
    "    'max_features': [1.0], \n",
    "    'min_samples_leaf': [10], \n",
    "    'min_samples_split': [10],\n",
    "    'n_estimators': [60],\n",
    "    'random_state': [123]\n",
    "}\n",
    "grid_search_rf_c = GridSearchCV(estimator=RF_R, \n",
    "                           param_grid=params, \n",
    "                           cv=4, scoring = scoring_metrics_c, refit='MAE')\n",
    "grid_search_rf_c.fit(X_train_c, y_train_c)"
   ]
  },
  {
   "cell_type": "code",
   "execution_count": 62,
   "id": "ab81ada1",
   "metadata": {},
   "outputs": [
    {
     "data": {
      "text/html": [
       "<div>\n",
       "<style scoped>\n",
       "    .dataframe tbody tr th:only-of-type {\n",
       "        vertical-align: middle;\n",
       "    }\n",
       "\n",
       "    .dataframe tbody tr th {\n",
       "        vertical-align: top;\n",
       "    }\n",
       "\n",
       "    .dataframe thead th {\n",
       "        text-align: right;\n",
       "    }\n",
       "</style>\n",
       "<table border=\"1\" class=\"dataframe\">\n",
       "  <thead>\n",
       "    <tr style=\"text-align: right;\">\n",
       "      <th></th>\n",
       "      <th>mean_fit_time</th>\n",
       "      <th>std_fit_time</th>\n",
       "      <th>mean_score_time</th>\n",
       "      <th>std_score_time</th>\n",
       "      <th>param_bootstrap</th>\n",
       "      <th>param_criterion</th>\n",
       "      <th>param_max_depth</th>\n",
       "      <th>param_max_features</th>\n",
       "      <th>param_min_samples_leaf</th>\n",
       "      <th>param_min_samples_split</th>\n",
       "      <th>...</th>\n",
       "      <th>mean_test_MAE</th>\n",
       "      <th>std_test_MAE</th>\n",
       "      <th>rank_test_MAE</th>\n",
       "      <th>split0_test_MSE</th>\n",
       "      <th>split1_test_MSE</th>\n",
       "      <th>split2_test_MSE</th>\n",
       "      <th>split3_test_MSE</th>\n",
       "      <th>mean_test_MSE</th>\n",
       "      <th>std_test_MSE</th>\n",
       "      <th>rank_test_MSE</th>\n",
       "    </tr>\n",
       "  </thead>\n",
       "  <tbody>\n",
       "    <tr>\n",
       "      <th>0</th>\n",
       "      <td>0.500562</td>\n",
       "      <td>0.008079</td>\n",
       "      <td>0.008319</td>\n",
       "      <td>0.008319</td>\n",
       "      <td>True</td>\n",
       "      <td>absolute_error</td>\n",
       "      <td>20</td>\n",
       "      <td>1.0</td>\n",
       "      <td>10</td>\n",
       "      <td>10</td>\n",
       "      <td>...</td>\n",
       "      <td>5.332337</td>\n",
       "      <td>0.270328</td>\n",
       "      <td>1</td>\n",
       "      <td>46.600223</td>\n",
       "      <td>46.403586</td>\n",
       "      <td>48.97246</td>\n",
       "      <td>55.02191</td>\n",
       "      <td>49.249545</td>\n",
       "      <td>3.482648</td>\n",
       "      <td>1</td>\n",
       "    </tr>\n",
       "  </tbody>\n",
       "</table>\n",
       "<p>1 rows × 27 columns</p>\n",
       "</div>"
      ],
      "text/plain": [
       "   mean_fit_time  std_fit_time  mean_score_time  std_score_time  \\\n",
       "0       0.500562      0.008079         0.008319        0.008319   \n",
       "\n",
       "  param_bootstrap param_criterion param_max_depth param_max_features  \\\n",
       "0            True  absolute_error              20                1.0   \n",
       "\n",
       "  param_min_samples_leaf param_min_samples_split  ... mean_test_MAE  \\\n",
       "0                     10                      10  ...      5.332337   \n",
       "\n",
       "  std_test_MAE rank_test_MAE  split0_test_MSE  split1_test_MSE  \\\n",
       "0     0.270328             1        46.600223        46.403586   \n",
       "\n",
       "   split2_test_MSE  split3_test_MSE  mean_test_MSE  std_test_MSE  \\\n",
       "0         48.97246         55.02191      49.249545      3.482648   \n",
       "\n",
       "   rank_test_MSE  \n",
       "0              1  \n",
       "\n",
       "[1 rows x 27 columns]"
      ]
     },
     "execution_count": 62,
     "metadata": {},
     "output_type": "execute_result"
    }
   ],
   "source": [
    "pd.DataFrame(grid_search_c.cv_results_)"
   ]
  },
  {
   "cell_type": "code",
   "execution_count": 72,
   "id": "13130a04",
   "metadata": {
    "scrolled": false
   },
   "outputs": [
    {
     "name": "stdout",
     "output_type": "stream",
     "text": [
      "split0_test_MAE    5.202713\n",
      "split1_test_MAE    5.168623\n",
      "split2_test_MAE    5.158319\n",
      "split3_test_MAE    5.799694\n",
      "Name: 0, dtype: float64\n"
     ]
    },
    {
     "data": {
      "image/png": "[encoded data removed]",
      "text/plain": [
       "<Figure size 640x480 with 1 Axes>"
      ]
     },
     "metadata": {},
     "output_type": "display_data"
    }
   ],
   "source": [
    "res_1 = pd.DataFrame(grid_search_c.cv_results_)[['split0_test_MAE', 'split1_test_MAE','split2_test_MAE','split3_test_MAE']].iloc[0]\n",
    "print(res_1)\n",
    "# Crear un boxplot para los cuatro valores de accuracy\n",
    "plt.boxplot([res_1.values], labels = ['res_1'])\n",
    "plt.title('Boxplots de la robustez en MAE')\n",
    "plt.xlabel('Splits de Cross Validation')\n",
    "plt.ylabel('MAE')\n",
    "plt.show()"
   ]
  },
  {
   "cell_type": "code",
   "execution_count": 74,
   "id": "f5fb060e",
   "metadata": {
    "scrolled": false
   },
   "outputs": [
    {
     "data": {
      "image/png": "[encoded data removed]",
      "text/plain": [
       "<Figure size 800x600 with 1 Axes>"
      ]
     },
     "metadata": {},
     "output_type": "display_data"
    }
   ],
   "source": [
    "indices = np.arange(1, len(y_test_c) + 1)\n",
    "\n",
    "plt.figure(figsize=(8, 6))\n",
    "plt.scatter(indices, y_test_c, color='darkgreen', label='reales')  # Puedes ajustar el color según tus preferencias\n",
    "\n",
    "plt.scatter(indices, pred_rf_c_test, color='red', alpha=0.5, label='Random Forest')  # Puedes ajustar el color y la transparencia según tus preferencias\n",
    "\n",
    "plt.title('Scatter Plot de valores reales vs ranfom forest')\n",
    "plt.xlabel('Observaciones')\n",
    "plt.ylabel('Valores')\n",
    "plt.legend()  # Agregar leyenda\n",
    "plt.grid(True)\n",
    "plt.show()"
   ]
  },
  {
   "cell_type": "code",
   "execution_count": 77,
   "id": "19f083e1",
   "metadata": {},
   "outputs": [
    {
     "name": "stdout",
     "output_type": "stream",
     "text": [
      "MAE (Error Absoluto Medio): 4.92\n",
      "MSE (Error Cuadrático Medio): 43.83\n",
      "RMSE (Raíz del Error Cuadrático Medio): 6.62\n",
      "R2: 0.8402963970008323\n"
     ]
    }
   ],
   "source": [
    "# Calcular diferentes medidas de bondad de ajuste\n",
    "mae = mean_absolute_error(y_test_c, pred_rf_c_test)\n",
    "mse = mean_squared_error(y_test_c, pred_rf_c_test)\n",
    "rmse = np.sqrt(mse)\n",
    "r2 = r2_score(y_test_c, pred_rf_c_test)\n",
    "\n",
    "# Imprimir las métricas\n",
    "print(f'MAE (Error Absoluto Medio): {mae:.2f}')\n",
    "print(f'MSE (Error Cuadrático Medio): {mse:.2f}')\n",
    "print(f'RMSE (Raíz del Error Cuadrático Medio): {rmse:.2f}')\n",
    "print(f'R2: {r2}')"
   ]
  },
  {
   "cell_type": "code",
   "execution_count": null,
   "id": "a58ed7df",
   "metadata": {},
   "outputs": [],
   "source": []
  }
 ],
 "metadata": {
  "kernelspec": {
   "display_name": "Python 3 (ipykernel)",
   "language": "python",
   "name": "python3"
  },
  "language_info": {
   "codemirror_mode": {
    "name": "ipython",
    "version": 3
   },
   "file_extension": ".py",
   "mimetype": "text/x-python",
   "name": "python",
   "nbconvert_exporter": "python",
   "pygments_lexer": "ipython3",
   "version": "3.11.5"
  }
 },
 "nbformat": 4,
 "nbformat_minor": 5
}
