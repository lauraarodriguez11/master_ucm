{
 "cells": [
  {
   "cell_type": "markdown",
   "metadata": {},
   "source": [
    "# **Carga de cartografías en Python**\n",
    "En este cuaderno vamos a ver como cargar cartografías y hacer representaciones simples de las variables sobre mapas. Antes de comenzar es conveninte, aunque no estrictamente necesario, crear un nuevo entorno para instalar las librerías espaciales con sus dependencias"
   ]
  },
  {
   "cell_type": "code",
   "execution_count": 1,
   "metadata": {},
   "outputs": [],
   "source": [
    "# Podemos Crear un nuevo entorno de trabajo (mejor desde el terminal)\n",
    "#! conda create -n geo_env\n",
    "#! conda activate geo_env\n",
    "#! conda config --env --add channels conda-forge\n",
    "#! conda config --env --set channel_priority strict\n",
    "\n",
    "# conda install --channel conda-forge geopandas"
   ]
  },
  {
   "cell_type": "markdown",
   "metadata": {},
   "source": [
    "**Bibliografía recomendada**: La referencia básica para trabajar con datos espaciales con python es [Geographic Data Science with Python](https://geographicdata.science/book/intro.html)\n",
    "\n",
    "Las principales librerías para trabajar con cartografías y datos espaciales son:\n",
    "- `geopandas` para trabajar con datos espaciales. Trabaja con GeoDataFrame o geotablas, que es un dataframe donde cada fila corresponde a una figura geométrica, cada columna es un metadato y con una columna final con la geometría, puntos (x,y) que hay que unir para definir cada figura espacial (sigue la estructura de \"simple features\" utilizada también en `PostGis` de `Postgres` o `sf` de R)   \n",
    "- `xarray` para datos espaciales raster, que representan superficies mediante cuadrículas. Trabaja con objetos DataArrays donde cada elemento tiene una coordenada (x,y) que correpnde a una celda. Yo en esta clase no trabajaré con estos datos raster. Para más información de como trabajar con datos raster, y lo más importante, de como poder convertirlos en datos tabulares tipo GeoDataFrame para poder aplicar todas las librerías de sci-kit.learn (por ejemplo) para hacer machine learning véase [Geographic Data Science with Python](https://geographicdata.science/book/intro.html)\n",
    "\n",
    "<br>\n",
    "\n",
    "- Para hacer el análisis estadístico espacial utilizaremos la librería **`PySal`** (sobre esta metalibrería está construido, por ejemplo [Qgis](https://www.qgis.org/)). Sobre esta librería hablaremos un poco más adelante, pero si alguien está interesado puede consultar [pysal.org](https://pysal.org/)\n",
    "- para gestionar cartografías, fusionar unir, crear zonas, etc puede utilizarse  la librería **`Shapely`**. Yo no voy a ver nada de esta librería, pero animo a toda persona interesada a consultar el manual de referencia de esta librería [Shapely](https://shapely.readthedocs.io/en/stable/index.html)\n"
   ]
  },
  {
   "cell_type": "markdown",
   "metadata": {},
   "source": [
    "## **Trabajando con Geopandas** \n",
    "\n",
    "La librería `geopandas` permite trabajar con cartografías (con mapas) utilizando la arquitectura de los data frames de `pandas`. Para una introducción a esta librería `geopandas` es muy recomendable visitar su web [GeoPandas](https://geopandas.org/en/stable/getting_started/introduction.html). \n",
    "\n",
    "Importamos Geopandas y otras librerías que también utilizaremos"
   ]
  },
  {
   "cell_type": "code",
   "execution_count": null,
   "metadata": {},
   "outputs": [],
   "source": [
    "import geopandas as gpd\n",
    "\n",
    "import pandas as pd\n",
    "import matplotlib.pyplot as plt\n"
   ]
  },
  {
   "cell_type": "markdown",
   "metadata": {},
   "source": [
    "`GeoPandas` extiende la librería `Pandas` para que pueda trabajar con datos espaciales. La estructura de datos principal en `GeoPandas` es `geopandas.GeoDataFrame`, una subclase de `pandas.DataFrame`, que puede almacenar **columnas con la geometría** de cada objeto espacial (almacenado como una fila del dataframe) y realizar operaciones espaciales.\n",
    "\n",
    "Esa columna con las geometrías es una `geopandas.GeoSeries`, una subclase de `pandas.Series`, que almacena las geometrías, esto es los puntos en el espacio que conforman de cada objeto espacial (ya sea un punto, una linea o un polígono espacial).   \n",
    "\n",
    "Por lo tanto, un `GeoDataFrame` es una combinación de `pandas.Series`, con datos tradicionales (numéricos, booleanos, texto, etc.), y `geopandas.GeoSeries`, con geometrías (puntos, polígonos, etc.).    \n",
    "\n",
    "Cada `GeoSeries` contiene una geometría y tiene el atributo `GeoSeries.crs`, la cual almacena información sobre la proyección utilizada en la geometría (CRS son las siglas en inglés de **Coordinate Reference System**)"
   ]
  },
  {
   "cell_type": "markdown",
   "metadata": {},
   "source": [
    "## Lectura de Ficheros de Cartografías\n",
    "\n",
    "Los mapas, las cartografías, hay que cargarlas, bien utilizando algún paquete que incorpore como dato algún mapa (sobre todo mapas mundiales), bien cargando nuestras propias cartografíac.\n",
    "\n",
    "Cuando se trabajan con datos espaciales se suele trabajar directamente con cartografías, es decir, suelen leerse y cargarse los mapas desde **ficheros con las cartografías**. Estos ficheros con las cortagrafías (mapas), incluyen metadatos de cada objeto espacial y su geometría. El formato de estos ficheros de cartografías puede ser variado (por ejemplo, GeoPackage, GeoJSON, Shapefile). Yo os he dejado una serie de cartografías en formato `shape`.\n",
    "\n",
    "Pueden descargarse cartografías\n",
    "\n",
    "- desde organismos oficiales como [Eurostat] (https://ec.europa.eu/eurostat/web/gisco/geodata/statistical-units/territorial-units-statistics)\n",
    "- o como los insitutos nacionales de Estadística y Geografía como el de México [INEGI] (https://www.inegi.org.mx/temas/mg/#descargas) \n",
    "- o desde páginas espcecializada en recopilar cartografías públicas como [Natural Earth] (https://www.naturalearthdata.com/downloads/)\n",
    "\n",
    "La lectura de los ficheros de cartografías se realiza utilizando `geopandas.read_file()`, que detecta automáticamente el tipo de archivo y crea un `GeoDataFrame`"
   ]
  },
  {
   "cell_type": "code",
   "execution_count": null,
   "metadata": {},
   "outputs": [],
   "source": [
    "gdf =gpd.read_file(\"cartografias/CCAA_GEO_ETRS89.shp\")\n",
    "gdf.info()\n",
    "\n"
   ]
  },
  {
   "cell_type": "code",
   "execution_count": null,
   "metadata": {},
   "outputs": [],
   "source": [
    "gdf"
   ]
  },
  {
   "cell_type": "markdown",
   "metadata": {},
   "source": [
    "Podemos hacer la representación de nuestro primer mapa geopolítica simplement con el método plot asociado al geodataframe"
   ]
  },
  {
   "cell_type": "code",
   "execution_count": null,
   "metadata": {},
   "outputs": [],
   "source": [
    "gdf.plot()"
   ]
  },
  {
   "cell_type": "markdown",
   "metadata": {},
   "source": [
    "Las geometrías puede ser de tipo Punto, Líneas o polígonos espaciales (simple features). Cada figura espacial (**feature**, !!!ojo que en machine learning feature sería cada variable o característica,columna, correspondiente a cada unidad, a cada fila, pero aquí feature es un objeto espacial, una unidad de observación o una fila!!!! ).    \n",
    "    \n",
    "    ... como digo cada objeto, unidad o figura espacial puede estar compuesta por ejemplo por un único polígono, como el caso de Asturias"
   ]
  },
  {
   "cell_type": "code",
   "execution_count": null,
   "metadata": {},
   "outputs": [],
   "source": [
    "gdf[\"geometry\"][2]\n"
   ]
  },
  {
   "cell_type": "markdown",
   "metadata": {},
   "source": [
    "o como conjunto de polígonos o Multipolígonos, como el caso de las Islas Canarias"
   ]
  },
  {
   "cell_type": "code",
   "execution_count": null,
   "metadata": {},
   "outputs": [],
   "source": [
    "gdf[\"geometry\"][4]"
   ]
  },
  {
   "cell_type": "markdown",
   "metadata": {},
   "source": [
    "En este caso la cartografía venía vacía, sin metadatos, podemos ir añadiendo sólo algunas variables que podemos obtener de la propia geometría, como el área total de cada CCAA,o su centroide"
   ]
  },
  {
   "cell_type": "code",
   "execution_count": null,
   "metadata": {},
   "outputs": [],
   "source": [
    "gdf[\"area\"] = gdf.area"
   ]
  },
  {
   "cell_type": "code",
   "execution_count": null,
   "metadata": {},
   "outputs": [],
   "source": [
    "gdf.head()"
   ]
  },
  {
   "attachments": {},
   "cell_type": "markdown",
   "metadata": {},
   "source": [
    "Para el calculo del área es necesario tener bien definido el sistema de referencia, la proyección que se está utilizando para la localización de los diferentes elementos del mapa que estamos representando (los polígonos de las Comunidades Autónomas)\n",
    "Es posible que os aparezca un warning referente a estas proyecciones utilizadas en las geometrías. En este caso yo he bajado los datos cartográficos del INE (EPSG:4258)\n",
    "\n",
    "Para consultar características de cada sistema de referencia\n",
    "[http://epsg.io]\n",
    "[http://spatialreference.org]\n",
    "CRS(\"epsg:3857\") #PSeudomercator Este es el que usa Open Street Maps\n",
    "http://spatialreference.org/ref/epsg/3857/\n",
    "Projection used in many popular web mapping applications (Google/Bing/OpenStreetMap/etc). Sometimes known as EPSG:900913.\n",
    "EPSG:4326 WGS 84\n",
    "\n",
    "  "
   ]
  },
  {
   "cell_type": "code",
   "execution_count": null,
   "metadata": {},
   "outputs": [],
   "source": [
    "gdf.crs\n"
   ]
  },
  {
   "cell_type": "code",
   "execution_count": 10,
   "metadata": {},
   "outputs": [],
   "source": [
    "# Podría fijar la cartografía en otro sistema de referencia:\n",
    "# gdf=gdf.to_crs(epsg=3857) # este epsg=3857 Pseudo-Mercator -- Spherical Mercator es el que utilizan Google Maps, OpenStreetMap, Bing, ArcGIS, ESRI"
   ]
  },
  {
   "attachments": {},
   "cell_type": "markdown",
   "metadata": {},
   "source": [
    "Calculo ahora el centroide de cada CCAA y lo guardo como otra columna adicional en mi datagrame"
   ]
  },
  {
   "cell_type": "code",
   "execution_count": null,
   "metadata": {},
   "outputs": [],
   "source": [
    "gdf['centroide'] = gdf.centroid"
   ]
  },
  {
   "cell_type": "code",
   "execution_count": null,
   "metadata": {},
   "outputs": [],
   "source": [
    "gdf.head()"
   ]
  },
  {
   "cell_type": "markdown",
   "metadata": {},
   "source": [
    "O podemos calcular la distancia a un punto (por ejemplo al centroide de Madrid CA13)"
   ]
  },
  {
   "cell_type": "code",
   "execution_count": null,
   "metadata": {},
   "outputs": [],
   "source": [
    "gdf[\"geometry\"][12]"
   ]
  },
  {
   "cell_type": "code",
   "execution_count": null,
   "metadata": {},
   "outputs": [],
   "source": [
    "Madrid_point = gdf['centroide'].iloc[12]\n",
    "gdf['distancia'] = gdf['centroide'].distance(Madrid_point)\n"
   ]
  },
  {
   "cell_type": "code",
   "execution_count": null,
   "metadata": {},
   "outputs": [],
   "source": [
    "gdf"
   ]
  },
  {
   "attachments": {},
   "cell_type": "markdown",
   "metadata": {},
   "source": [
    "### Podemos hacer gráficos de cloropletas estáticos (aquí los colores están en función del área)"
   ]
  },
  {
   "cell_type": "code",
   "execution_count": null,
   "metadata": {},
   "outputs": [],
   "source": [
    "gdf.plot(\"area\", legend=True)"
   ]
  },
  {
   "cell_type": "markdown",
   "metadata": {},
   "source": [
    "Es muy importante la paleta de colores, que las tonalidades muestren claramente una relación entre intensidad y valores de las variables [Paletas de Colores en matplotlib](https://matplotlib.org/stable/tutorials/colors/colormaps.html)\n"
   ]
  },
  {
   "cell_type": "code",
   "execution_count": null,
   "metadata": {},
   "outputs": [],
   "source": [
    "gdf.plot(\"area\", legend=True, cmap='Greys', figsize=(10,6))"
   ]
  },
  {
   "cell_type": "code",
   "execution_count": null,
   "metadata": {},
   "outputs": [],
   "source": [
    "gdf.plot(\"area\", legend=True, cmap='YlGn', figsize=(10,6))"
   ]
  },
  {
   "cell_type": "code",
   "execution_count": null,
   "metadata": {},
   "outputs": [],
   "source": [
    "# o dinámicos (requiere la librería `folium`, comprobar todos los métodos instalados en la versión de geopandas con print(dir(gpd)) debe estar 'explore'.\n",
    "# Si no está este método 'explore' intalar la última versión conda install --channel conda-forge geopandas==0.12.2)\n",
    "gdf.explore(\"area\", legend=False)"
   ]
  },
  {
   "cell_type": "code",
   "execution_count": null,
   "metadata": {},
   "outputs": [],
   "source": [
    "# podemos dibujar las fronteras y los centroides como si fueran capas\n",
    "\n",
    "map=gdf.plot(\"distancia\", legend=True)\n",
    "map=gdf.boundary.plot(ax=map, color=\"white\", linewidth=.5)\n",
    "map=gdf[\"centroide\"].plot(ax=map, color=\"black\")"
   ]
  },
  {
   "attachments": {},
   "cell_type": "markdown",
   "metadata": {},
   "source": [
    "Podemos cambiar la paleta de colores   [Paletas de Colores en matplotlib](https://matplotlib.org/stable/tutorials/colors/colormaps.html)\n"
   ]
  },
  {
   "cell_type": "code",
   "execution_count": null,
   "metadata": {},
   "outputs": [],
   "source": [
    "gdf.plot(column='area', scheme='equal_interval', k=3, cmap='OrRd', edgecolor='k') "
   ]
  },
  {
   "cell_type": "markdown",
   "metadata": {},
   "source": [
    "O podemos añadir a un gráfico estático también fondos de OpenstreetMap y de otras librerías "
   ]
  },
  {
   "cell_type": "code",
   "execution_count": null,
   "metadata": {},
   "outputs": [],
   "source": [
    "# pip install contextily desde el terminal si fuese necesario\n",
    "import contextily as cx\n",
    "import xyzservices.providers as xyz\n",
    "# pasamos nuestro mapa al sistema Web Mercator (EPSG 3857)\n",
    "gdf_wm = gdf.to_crs(epsg=3857)\n",
    "map_c=gdf_wm.plot( edgecolor='k', figsize=(10,7), alpha=0.25)\n",
    "# Ahora le añadimos una cartografía base\n",
    "cx.add_basemap(map_c, source=xyz.NASAGIBS.ViirsEarthAtNight2012, alpha=0.95)\n",
    "               \n",
    "# Buscar diferentes proveedores de cartografías:  https://contextily.readthedocs.io/en/latest/providers_deepdive.html\n",
    "\n",
    "#cx.add_basemap(map_c, source=xyz.CartoDB.Positron)\n",
    "#cx.add_basemap(map_c, source=xyz.OpenStreetMap.HOT)\n",
    "#cx.add_basemap(map_c, source=xyz.OpenTopoMap)\n"
   ]
  },
  {
   "cell_type": "markdown",
   "metadata": {},
   "source": [
    "## Importar Metadatos a una Cartografías\n",
    "\n",
    "Ahora vamos a añadirle datos a cada CCAA\n"
   ]
  },
  {
   "cell_type": "code",
   "execution_count": null,
   "metadata": {},
   "outputs": [],
   "source": [
    "# aquí estoy utilizando la librería Pandas as pd\n",
    "salarios=pd.read_csv(\"datos/SALARIOS.csv\",encoding='latin1',sep=\";\")\n",
    "salarios.head()"
   ]
  },
  {
   "cell_type": "code",
   "execution_count": null,
   "metadata": {},
   "outputs": [],
   "source": [
    "# ahora fusionamos los datos de salarios a la cartografía\n",
    "gdf=pd.merge(gdf, salarios,how='left', left_on='cod_CCAA', right_on='COD_CCAA')\n",
    "gdf\n",
    "\n"
   ]
  },
  {
   "cell_type": "code",
   "execution_count": null,
   "metadata": {},
   "outputs": [],
   "source": [
    "ax=gdf.plot(column='SALARIO', \n",
    "         scheme='EqualInterval',\n",
    "         k=8, cmap='YlOrRd',\n",
    "         edgecolor='w',\n",
    "         legend=True,\n",
    "         figsize=(10,10),\n",
    "         legend_kwds={'loc': 'lower right', 'fontsize':'8', 'title':'Salarios'} \n",
    ")\n",
    "ax.set_axis_off()   "
   ]
  },
  {
   "cell_type": "code",
   "execution_count": null,
   "metadata": {},
   "outputs": [],
   "source": [
    "\n",
    "ax=gdf.plot(column='SALARIO', \n",
    "         scheme='quantiles',\n",
    "         k=8, cmap='YlOrRd',\n",
    "         edgecolor='w',\n",
    "         legend=True,\n",
    "         figsize=(10,10),\n",
    "         legend_kwds={'loc': 'lower right', 'fontsize':'8', 'title':'Salarios'} \n",
    ")\n",
    "ax.set_axis_off()       \n"
   ]
  },
  {
   "attachments": {},
   "cell_type": "markdown",
   "metadata": {},
   "source": [
    "Para terminar voy a **grabar** la cartografía con todos los campos para no tener que volver a cargarla.   \n",
    "\n",
    "**Ojo que por ejemplo el formato ESRI 'shp' sólo permite una cartografía**"
   ]
  },
  {
   "cell_type": "code",
   "execution_count": null,
   "metadata": {},
   "outputs": [],
   "source": [
    "gdf.info()"
   ]
  },
  {
   "cell_type": "markdown",
   "metadata": {},
   "source": [
    "Tengo que quitar una de las dos columans de cartografías"
   ]
  },
  {
   "cell_type": "code",
   "execution_count": null,
   "metadata": {},
   "outputs": [],
   "source": [
    "gdf[\"xlong\"]=gdf['centroide'].x\n",
    "gdf[\"ylat\"]=gdf['centroide'].y\n",
    "gdf=gdf.drop('centroide', axis=1)\n",
    "gdf.head()"
   ]
  },
  {
   "cell_type": "code",
   "execution_count": null,
   "metadata": {},
   "outputs": [],
   "source": [
    "gdf.info()"
   ]
  },
  {
   "cell_type": "code",
   "execution_count": null,
   "metadata": {},
   "outputs": [],
   "source": [
    "gdf.to_file('cartografias/CCAA_map.shp', encoding='latin1')"
   ]
  },
  {
   "cell_type": "markdown",
   "metadata": {},
   "source": [
    "# Mapa de España\n",
    "\n",
    "Ahora voy a hacer un mapa de España"
   ]
  },
  {
   "cell_type": "code",
   "execution_count": null,
   "metadata": {},
   "outputs": [],
   "source": [
    "\n",
    "gdfm =gpd.read_file(\"cartografias/Munic04_ESP.shp\")\n",
    "gdfm.info()\n"
   ]
  },
  {
   "cell_type": "code",
   "execution_count": null,
   "metadata": {},
   "outputs": [],
   "source": [
    "map=gdfm.plot(column='PrecioIn16', \n",
    "         scheme='quantiles',\n",
    "         k=8, cmap='YlOrRd',\n",
    "         legend=True,\n",
    "         figsize=(10,10),\n",
    "         legend_kwds={'loc': 'lower right', 'fontsize':'8', 'title':'Precio de la Vivienda'} \n",
    ")\n",
    "map.set_axis_off()       \n"
   ]
  },
  {
   "cell_type": "markdown",
   "metadata": {},
   "source": [
    "Puedo intentar ponerle encima cartografía de comunidades autónomas o provincias. Primero voy a crear la cartografía de las provincias agregando municipios (features) utilizando la función `dissolve()` de `GeoPandas`"
   ]
  },
  {
   "cell_type": "code",
   "execution_count": null,
   "metadata": {},
   "outputs": [],
   "source": [
    "gprov=gdfm.dissolve(by=\"COD_PROV\")\n",
    "gprov.plot() \n",
    "   "
   ]
  },
  {
   "cell_type": "code",
   "execution_count": null,
   "metadata": {},
   "outputs": [],
   "source": [
    "map=gdfm.plot(column='PrecioIn16', \n",
    "         scheme='quantiles',\n",
    "         k=8, cmap='YlOrRd',\n",
    "         legend=True,\n",
    "         figsize=(10,10),\n",
    "         legend_kwds={'loc': 'lower right', 'fontsize':'8', 'title':'Precio de la Vivienda'} \n",
    ")\n",
    "map=gprov.boundary.plot(ax=map,color=\"dimgray\", linewidth=.75)\n",
    "map.set_axis_off()  "
   ]
  },
  {
   "cell_type": "markdown",
   "metadata": {},
   "source": [
    "## Extensiones\n",
    "\n",
    "Hay un gran número de paquetes y de utilidades para trabajar con datos espaciales. Por ejemplo:\n",
    "- para poder representar puntos en un mapa es necesario tner la geolocalizaciópn de los puntos utilizando por ejemplo las direcciones postales. La función de `GeoPandas` **`tools.geocode()`** sirve para geolocalizar direcciones. También la librería **`geocoder`** hace lo mismo     \n",
    "    \n",
    "- La librería **`contextily`** sirve para añadir mapas contextuales OpenStreetMap a los gráficos de `GeoPandas`\n",
    "\n",
    "- La librería **`osmnx`** sirve para interactuar con la api de Openstreetmap\n",
    "\n",
    "- La librería **`Folium`** sirve para crear mapas web con Leaflet\n",
    "\n",
    "- La librería **`Shapely`** para gestionar cartografías\n",
    "\n"
   ]
  }
 ],
 "metadata": {
  "kernelspec": {
   "display_name": "geo_env",
   "language": "python",
   "name": "python3"
  },
  "language_info": {
   "codemirror_mode": {
    "name": "ipython",
    "version": 3
   },
   "file_extension": ".py",
   "mimetype": "text/x-python",
   "name": "python",
   "nbconvert_exporter": "python",
   "pygments_lexer": "ipython3",
   "version": "3.11.3"
  },
  "orig_nbformat": 4,
  "vscode": {
   "interpreter": {
    "hash": "ee6abb9768f5b1471691e0585272ec1e79eef59c237679b7afb77ee71e1db93b"
   }
  }
 },
 "nbformat": 4,
 "nbformat_minor": 2
}
