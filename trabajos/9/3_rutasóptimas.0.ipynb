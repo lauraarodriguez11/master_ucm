{
 "cells": [
  {
   "cell_type": "markdown",
   "metadata": {},
   "source": [
    "# Interactuar con la API de Open Street MAP: búsqueda de rutas\n",
    "\n",
    "Aquí sólo pongo una de las múltiples posibilidades para interactar con la API de Open streetMap, el cálculo de rutas entre dos puntos. Para un areferencia completa véase: Bonny P. McClain (2022). Python for Geospatial Data Analysis: Theory, Tools and Practice for Location Intelligence. Ed O’Reilly\n",
    "\n",
    "\n"
   ]
  },
  {
   "cell_type": "code",
   "execution_count": null,
   "metadata": {},
   "outputs": [],
   "source": [
    "# conda install osmx\n",
    "# conda install shapely\n",
    "import geopandas as gpd\n",
    "\n",
    "import pandas as pd\n",
    "import matplotlib.pyplot as plt\n",
    "\n",
    "import shapely\n",
    "import osmnx as ox # Esta es la librería que facilita la descarga de datos de OpenStreetMap\n",
    "import networkx as nx # Esta es la librería que facilita el análisis de redes\n",
    "ox.config(use_cache=False, log_console=True)\n",
    "\n",
    "\n",
    "\n"
   ]
  },
  {
   "cell_type": "markdown",
   "metadata": {},
   "source": [
    "Primero determino el Punto de Salida y el punto de destino:\n",
    "\n",
    "Quiero ir desde la Facultad de Estudios Estadísticos hasta La Facultad de Documentación en el Barrio de Chamberi, y como no conozco la posición primero geolocalizo por la dirección"
   ]
  },
  {
   "cell_type": "code",
   "execution_count": null,
   "metadata": {},
   "outputs": [],
   "source": [
    "objetivo=[\"Facultad de Estudios Estadísticos, Madrid\",\n",
    "          \"Calle Santísima Trinidad, 37,Madrid\"]\n",
    "geo_output=gpd.tools.geocode(objetivo)  # la salida es un geodataframe de geopandas. \n",
    "\n",
    "geo_output\n",
    "\n",
    "\n",
    "salida=(geo_output.loc[0,\"geometry\"].y, geo_output.loc[0,\"geometry\"].x) # Facultad de Estudios Estadísticos (hay que darle la vuelta a long y lat)\n",
    "llegada=(geo_output.loc[1,\"geometry\"].y , geo_output.loc[1,\"geometry\"].x) # Facultad de Comercio\n",
    "\n",
    "print(salida)\n",
    "print(llegada)"
   ]
  },
  {
   "cell_type": "markdown",
   "metadata": {},
   "source": [
    "Ahora me descargo el gráfico de una ciudad (place=\"Madrid, Spain\"), o si se que no voy a ir muy lejos el gráfo de un entorno al punto de salida"
   ]
  },
  {
   "cell_type": "code",
   "execution_count": null,
   "metadata": {},
   "outputs": [],
   "source": [
    "place='Madrid, Spain'\n",
    "#G = ox.graph_from_place(place, network_type='drive')\n",
    "\n",
    "\n",
    "G = ox.graph_from_point(salida, dist=5000, network_type='drive')\n",
    "\n",
    "ox.plot_graph(G)\n",
    "\n"
   ]
  },
  {
   "cell_type": "markdown",
   "metadata": {},
   "source": [
    "Ahora busca entre los nodos del grafo que hemos descargado, cuales son los más cercanos a nuestro punto de Salida y a nuestro punto de llegada"
   ]
  },
  {
   "cell_type": "code",
   "execution_count": 28,
   "metadata": {},
   "outputs": [],
   "source": [
    "# Encontrar los nodos más cercanos\n",
    "origin_node = ox.distance.nearest_nodes(G, salida[1], salida[0])\n",
    "destination_node = ox.distance.nearest_nodes(G, llegada[1], llegada[0])\n"
   ]
  },
  {
   "cell_type": "markdown",
   "metadata": {},
   "source": [
    "Ahora busco la ruta más corta utilizando la librería networkx"
   ]
  },
  {
   "cell_type": "code",
   "execution_count": null,
   "metadata": {},
   "outputs": [],
   "source": [
    "# Calcular la ruta más corta # weight='length'\n",
    "route = nx.shortest_path(G, origin_node, destination_node, weight='length')\n",
    "\n",
    "# o calcular la ruta más rápida # weight='time'\n",
    "# route = nx.shortest_path(G, origin_node, destination_node, weight='length')\n",
    "\n",
    "\n",
    "# Número de nodos en la ruta\n",
    "num_nodes = len(route)\n",
    "\n",
    "# Longitud total de la ruta\n",
    "route_length = nx.shortest_path_length(G, origin_node, destination_node, weight='length')\n",
    "\n",
    "# Resumen de la ruta\n",
    "route_summary = {\n",
    "    \"Número de nodos\": num_nodes,\n",
    "    \"Longitud total (metros)\": route_length\n",
    "}\n",
    "# Resumen de la ruta\n",
    "route_summary\n"
   ]
  },
  {
   "cell_type": "code",
   "execution_count": null,
   "metadata": {},
   "outputs": [],
   "source": [
    "# Mostrar la ruta\n",
    "fig, ax = ox.plot_graph_route(G, route, route_linewidth=6, node_size=0, bgcolor='k', orig_dest_size=100)"
   ]
  },
  {
   "cell_type": "markdown",
   "metadata": {},
   "source": [
    "Finalmente puedo representar la ruta utilizando leafleft"
   ]
  },
  {
   "cell_type": "code",
   "execution_count": null,
   "metadata": {},
   "outputs": [],
   "source": [
    "shortest_route_map = ox.plot_route_folium(G, route)\n",
    "shortest_route_map\n"
   ]
  },
  {
   "cell_type": "markdown",
   "metadata": {},
   "source": [
    "Puedo añadir más información al mapa"
   ]
  },
  {
   "cell_type": "code",
   "execution_count": null,
   "metadata": {},
   "outputs": [],
   "source": [
    "import folium\n",
    "\n",
    "# Añadir un punto negro en la salida\n",
    "folium.Marker(\n",
    "    location=[salida[0], salida[1]],\n",
    "    popup='Salida',\n",
    "    icon=folium.Icon(color='black')\n",
    ").add_to(shortest_route_map)\n",
    "\n",
    "# Añadir un punto rojo en la llegada\n",
    "folium.Marker(\n",
    "    location=[llegada[0], llegada[1]],\n",
    "    popup='Llegada',\n",
    "    icon=folium.Icon(color='red')\n",
    ").add_to(shortest_route_map)\n",
    "\n",
    "shortest_route_map"
   ]
  }
 ],
 "metadata": {
  "kernelspec": {
   "display_name": "geo_env",
   "language": "python",
   "name": "python3"
  },
  "language_info": {
   "codemirror_mode": {
    "name": "ipython",
    "version": 3
   },
   "file_extension": ".py",
   "mimetype": "text/x-python",
   "name": "python",
   "nbconvert_exporter": "python",
   "pygments_lexer": "ipython3",
   "version": "3.11.3"
  },
  "orig_nbformat": 4
 },
 "nbformat": 4,
 "nbformat_minor": 2
}
