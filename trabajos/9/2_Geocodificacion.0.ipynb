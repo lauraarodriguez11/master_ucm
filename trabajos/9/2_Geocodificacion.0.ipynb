{
 "cells": [
  {
   "attachments": {},
   "cell_type": "markdown",
   "metadata": {},
   "source": [
    "# GEOLOCALIZACION\n",
    "Es este script presentamos una aplicación para hacer geocodificación de puntos a partir de direcciones postales\n",
    "\n",
    "- para poder representar puntos en un mapa es necesario tner la geolocalizaciópn de los puntos utilizando por ejemplo las direcciones postales. La función de `GeoPandas` **`tools.geocode()`** [geopandas.tools.geocode](https://geopandas.org/en/stable/docs/reference/api/geopandas.tools.geocode.html) sirve para geolocalizar direcciones. Geopandas utiliza la librería  [**GeoPy**](https://geopy.readthedocs.io/en/stable/) para la geolocalización, que incorpora una calse propia para cada servicio de localización que se utilice (ej, Google Maps, Bing Maps, Nominatim, OpenStreetMap, etc). También la librería **`geocoder`** hace lo mismo   \n",
    "    \n",
    "- La librería **`osmnx`** sirve para interactuar con la api de Openstreetmap"
   ]
  },
  {
   "cell_type": "code",
   "execution_count": null,
   "metadata": {},
   "outputs": [],
   "source": [
    "import geopandas as gpd\n",
    "\n",
    "import pandas as pd\n",
    "import matplotlib.pyplot as plt"
   ]
  },
  {
   "attachments": {},
   "cell_type": "markdown",
   "metadata": {},
   "source": [
    "Primero vamos a geolocalizar por ejemplo la facultad de Estudios Estadísticos utilizando Geopandas y la función tools.geocode()\n"
   ]
  },
  {
   "cell_type": "code",
   "execution_count": null,
   "metadata": {},
   "outputs": [],
   "source": [
    "# defino la dirección que quiero geolocalizar\n",
    "\n",
    "objetivo=\"Facultad de Estudios Estadísticos, Madrid\"\n",
    "\n",
    "geo_output=gpd.tools.geocode(objetivo)  \n",
    "\n",
    "# la salida es un geodataframe de geopandas.\n",
    "geo_output.info()\n",
    "\n",
    "\n",
    "#Para guardar los puntos longitud y latitud en el mismo geopandas  \n",
    "geo_output['xlong']=geo_output['geometry'].x\n",
    "geo_output['ylat']=geo_output['geometry'].y\n",
    "\n",
    "pd.options.display.max_colwidth = 250\n",
    "geo_output.head\n"
   ]
  },
  {
   "attachments": {},
   "cell_type": "markdown",
   "metadata": {},
   "source": [
    "Es posible georeferenciar una **lista** de direcciones "
   ]
  },
  {
   "cell_type": "code",
   "execution_count": null,
   "metadata": {},
   "outputs": [],
   "source": [
    "objetivo=[\"Facultad de Estudios Estadísticos, Madrid\",\n",
    "          \"Calle Santísima Trinidad, 37,Madrid\"]\n",
    "geo_output=gpd.tools.geocode(objetivo)  # la salida es un geodataframe de geopandas. \n",
    "\n",
    "geo_output"
   ]
  },
  {
   "attachments": {},
   "cell_type": "markdown",
   "metadata": {},
   "source": [
    "geopandas puede llamar a diferentes servicios de geolocalización( GoogleMaps, Here, Nominatin - OpenStreetMap). cada servicio tiene su propia clase para poder ser invocado y utilizado, y geopandas utiliza la librería [GeoPy](https://geopy.readthedocs.io/en/stable/), por lo que es conveniente visitar su página para poder estudiar todos los servicios disponibles en abierto y de pago (a través de API que requieres una ApiKey)"
   ]
  },
  {
   "attachments": {},
   "cell_type": "markdown",
   "metadata": {},
   "source": [
    "Por Defecto utiliza el proveedor de servicios de georeferenciación [Photon](https://photon.komoot.io), se puede cambiar el servicio del proveedor \n",
    "`geo_output=gpd.tools.geocode(objetivo,provider='nombre del servivio')`    \n",
    "\n",
    "\n",
    "las opciones:\n",
    "-  'algolia', 'arcgis', 'azure', 'baidu', 'baiduv3', 'banfrance', 'bing', 'databc', 'geocodeearth', 'geocodio', 'geonames', 'google', 'googlev3', 'geolake', 'here', 'herev7', 'ignfrance', 'mapbox', 'mapquest', 'maptiler', 'nominatim', 'opencage', 'openmapquest', 'pickpoint', 'pelias', 'photon', 'liveaddress', 'tomtom', 'what3words', 'what3wordsv3', 'yandex''google', 'bing', 'openmapquest'     \n",
    "\n",
    "-  llamando directamente a la clase de geopy 'geopy.geocoders.OpenMapQuest', 'geopy.geocoders.OpenMapQuest', 'geopy.geocoders.Nominatimla'\n"
   ]
  },
  {
   "cell_type": "code",
   "execution_count": null,
   "metadata": {},
   "outputs": [],
   "source": [
    "# Ahora podemos representar los puntos en open street map\n",
    "import folium # para cambiar el color y tipo de icono que aparece por defecto necesitamos la librería folium que permite utilizar leaflet \n",
    "\n",
    "geo_output.explore('address', legend=False, popup=True, marker_type='marker', marker_kwds={\"radius\": 20, \"icon\":folium.Icon(color='darkred',icon='check')})"
   ]
  },
  {
   "attachments": {},
   "cell_type": "markdown",
   "metadata": {},
   "source": [
    "Otra opción es la librería `geocoder`"
   ]
  },
  {
   "cell_type": "code",
   "execution_count": null,
   "metadata": {},
   "outputs": [],
   "source": [
    "# conda install --channel conda-forge geocoder\n",
    "import geocoder\n",
    "objetivo=\"Facultad de Estudios Estadísticos, Madrid\"\n",
    "g = geocoder.osm(objetivo)\n",
    "# la salida tiene formato de consulta de osm\n",
    "# para guardar la información como jsom g.json\n",
    "# para guardar la salida en forma de diccionario\n",
    "g.osm\n"
   ]
  },
  {
   "attachments": {},
   "cell_type": "markdown",
   "metadata": {},
   "source": [
    "# GEOLOCALIZACION INVERSA\n",
    "\n",
    "a partir de una corrdendas (xlong, ylat), también es posible obtener la dirección postal.\n",
    "\n",
    "Para ello se utiliza [**geopandas.tools.reverse_geocode**](https://geopandas.org/en/stable/docs/reference/api/geopandas.tools.reverse_geocode.html), y la información hay que darsela en formta de geometría "
   ]
  },
  {
   "cell_type": "code",
   "execution_count": null,
   "metadata": {},
   "outputs": [],
   "source": [
    "# para crear la geometría a partir de una corrdenada (x,y)\n",
    "\n",
    "from shapely.geometry import Point\n",
    "coords_objetivo=[Point(-3.737117,40.446717)]\n",
    "\n",
    "# o alternativamente \n",
    "coords_objetivo=gpd.points_from_xy(x=[-3.737117], y=[40.446717])\n",
    "\n",
    "# una vez construida la geometría llamamos al geolocalizador inverso\n",
    "geo_rev_output=gpd.tools.reverse_geocode(coords_objetivo)\n",
    "geo_rev_output"
   ]
  },
  {
   "cell_type": "code",
   "execution_count": null,
   "metadata": {},
   "outputs": [],
   "source": [
    "# o de varios puntos\n",
    "geo_rev_output=gpd.tools.reverse_geocode(geo_output.geometry)\n",
    "geo_rev_output"
   ]
  }
 ],
 "metadata": {
  "kernelspec": {
   "display_name": "geo_env",
   "language": "python",
   "name": "python3"
  },
  "language_info": {
   "codemirror_mode": {
    "name": "ipython",
    "version": 3
   },
   "file_extension": ".py",
   "mimetype": "text/x-python",
   "name": "python",
   "nbconvert_exporter": "python",
   "pygments_lexer": "ipython3",
   "version": "3.11.3"
  },
  "orig_nbformat": 4,
  "vscode": {
   "interpreter": {
    "hash": "ee6abb9768f5b1471691e0585272ec1e79eef59c237679b7afb77ee71e1db93b"
   }
  }
 },
 "nbformat": 4,
 "nbformat_minor": 2
}
