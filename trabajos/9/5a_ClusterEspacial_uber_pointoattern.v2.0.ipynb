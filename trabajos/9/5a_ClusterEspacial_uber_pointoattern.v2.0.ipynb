{
 "cells": [
  {
   "cell_type": "markdown",
   "metadata": {},
   "source": [
    "# **Cluster de objetos espaciales: K-medias**\n",
    "\n",
    "En este ejemplo vamos a hacer un ejemplo de agrupación con datos espaciales de patrones de puntos. S\n",
    "\n",
    "En esta práctica voy a utilizar los datos de recogidas de [UBER en la ciudad de Nueva York que están disponibles en Kagle](https://www.kaggle.com/datasets/tekbahadurkshetri/uber-clustering). Para vuestra comodidad os he dejado los datos en el archivo \"uber_clean.csv\".\n",
    "\n",
    "El Objetivo es hacer un cluster de posiciones"
   ]
  },
  {
   "cell_type": "code",
   "execution_count": 1,
   "metadata": {},
   "outputs": [],
   "source": [
    "import pandas as pd\n",
    "import matplotlib.pyplot as plt\n",
    "import seaborn as sns\n",
    "\n",
    "from sklearn.cluster import KMeans\n",
    "from sklearn.metrics import silhouette_score\n",
    "\n",
    "#conda install -c conda-forge folium\n",
    "import folium\n",
    "\n"
   ]
  },
  {
   "cell_type": "code",
   "execution_count": null,
   "metadata": {},
   "outputs": [],
   "source": [
    "df = pd.read_csv('datos/uber_clean.csv')  \n",
    "print(df.shape)\n",
    "print(df.info())\n",
    "df.head()\n",
    "\n",
    "\n"
   ]
  },
  {
   "cell_type": "markdown",
   "metadata": {},
   "source": [
    "Para que dure algo menos de tiempo la práctica voy a hacer una subselección de sólo 50.000 registros\n"
   ]
  },
  {
   "cell_type": "code",
   "execution_count": null,
   "metadata": {},
   "outputs": [],
   "source": [
    "df=df.sample(n=5000, frac=None, replace=False, weights=None, random_state=123456)\n",
    "df.shape"
   ]
  },
  {
   "cell_type": "markdown",
   "metadata": {},
   "source": [
    "# Selección de variables para el Kmeans\n",
    "Selecciono la longitud y la latitud para hacer el cluster"
   ]
  },
  {
   "cell_type": "code",
   "execution_count": null,
   "metadata": {},
   "outputs": [],
   "source": [
    "x = df[[\"Lat\", \"Lon\"]]\n",
    "x.head()"
   ]
  },
  {
   "cell_type": "markdown",
   "metadata": {},
   "source": [
    "# Agrupación inicial"
   ]
  },
  {
   "cell_type": "code",
   "execution_count": null,
   "metadata": {},
   "outputs": [],
   "source": [
    "model = KMeans(n_clusters=3)\n",
    "y_kmeans = model.fit_predict(x)\n",
    "type(y_kmeans)"
   ]
  },
  {
   "cell_type": "markdown",
   "metadata": {},
   "source": [
    "Hago la representación"
   ]
  },
  {
   "cell_type": "code",
   "execution_count": null,
   "metadata": {},
   "outputs": [],
   "source": [
    "plt.scatter(df['Lon'], df['Lat'], c=y_kmeans)"
   ]
  },
  {
   "cell_type": "markdown",
   "metadata": {},
   "source": [
    "Puedo probar con varios numeros de grupos visulamente"
   ]
  },
  {
   "cell_type": "code",
   "execution_count": null,
   "metadata": {},
   "outputs": [],
   "source": [
    "fig, ax = plt.subplots(1, 2, figsize=(10, 4))\n",
    "\n",
    "# Resultados para K = 2\n",
    "# ==============================================================================\n",
    "y_kmeans= KMeans(n_clusters=2, n_init=25, random_state=123).fit_predict(X=x)\n",
    "ax[0].scatter(\n",
    "        x = df['Lon'],\n",
    "        y = df['Lat'],\n",
    "        c = y_kmeans,\n",
    "        marker    = 'o',\n",
    "        edgecolor = 'black'\n",
    "    )\n",
    "ax[0].set_title('KMeans K=2');\n",
    "\n",
    "# Resultados para K = 6\n",
    "# ==============================================================================\n",
    "y_kmeans = KMeans(n_clusters=6, n_init=25, random_state=123).fit_predict(X=x)\n",
    "ax[1].scatter(\n",
    "        x = df['Lon'],\n",
    "        y = df['Lat'],\n",
    "        c = y_kmeans,\n",
    "        marker    = 'o',\n",
    "        edgecolor = 'black'\n",
    "    )\n",
    "ax[1].set_title('KMeans K=6');"
   ]
  },
  {
   "cell_type": "markdown",
   "metadata": {},
   "source": [
    "## Selección óptima de clústeres"
   ]
  },
  {
   "cell_type": "code",
   "execution_count": null,
   "metadata": {},
   "outputs": [],
   "source": [
    "# Método elbow para identificar el número óptimo de clusters\n",
    "# (identificar aquel punto de la curva (codo) a partir del cual la mejora deja de ser notable)\n",
    "# ==============================================================================\n",
    "range_n_clusters = range(1, 15)\n",
    "inertias = []\n",
    "\n",
    "for n_clusters in range_n_clusters:\n",
    "    modelo_kmeans = KMeans(\n",
    "                        n_clusters   = n_clusters,\n",
    "                        n_init       = 20,\n",
    "                        random_state = 123\n",
    "                    )\n",
    "    modelo_kmeans.fit(x)\n",
    "    inertias.append(modelo_kmeans.inertia_)\n",
    "\n",
    "fig, ax = plt.subplots(1, 1, figsize=(6, 3.84))\n",
    "ax.plot(range_n_clusters, inertias, marker='o')\n",
    "ax.set_title(\"Evolución de la varianza intra-cluster total\")\n",
    "ax.set_xlabel('Número clusters')\n",
    "ax.set_ylabel('Intra-cluster (inertia)');"
   ]
  },
  {
   "cell_type": "code",
   "execution_count": null,
   "metadata": {},
   "outputs": [],
   "source": [
    "# Método silhouette para identificar el número óptimo de clusters\n",
    "# (número óptimo de clusters aquel que maximiza la media del *silhouette coeficient* de todas las observaciones)\n",
    "# ==============================================================================\n",
    "range_n_clusters = range(2, 8)\n",
    "valores_medios_silhouette = []\n",
    "\n",
    "for n_clusters in range_n_clusters:\n",
    "    modelo_kmeans = KMeans(\n",
    "                        n_clusters   = n_clusters,\n",
    "                        n_init       = 20,\n",
    "                        random_state = 123\n",
    "                    )\n",
    "    cluster_labels = modelo_kmeans.fit_predict(x)\n",
    "    silhouette_avg = silhouette_score(x, cluster_labels)\n",
    "    valores_medios_silhouette.append(silhouette_avg)\n",
    "\n",
    "fig, ax = plt.subplots(1, 1, figsize=(6, 3.84))\n",
    "ax.plot(range_n_clusters, valores_medios_silhouette, marker='o')\n",
    "ax.set_title(\"Evolución de media de los índices silhouette\")\n",
    "ax.set_xlabel('Número clusters')\n",
    "ax.set_ylabel('Media índices silhouette');"
   ]
  },
  {
   "cell_type": "markdown",
   "metadata": {},
   "source": [
    "# Agrupación final\n",
    "**Una vez seleccionado el numero de Clusters óptimo guardo la solución**"
   ]
  },
  {
   "cell_type": "code",
   "execution_count": null,
   "metadata": {},
   "outputs": [],
   "source": [
    "model = KMeans(\n",
    "               n_clusters = 6,\n",
    "               n_init       = 20,\n",
    "               random_state = 123\n",
    "               )\n",
    "y_kmeans = model.fit_predict(x)\n",
    "type(y_kmeans)"
   ]
  },
  {
   "cell_type": "markdown",
   "metadata": {},
   "source": [
    "Guardo el resultado como una columna adicional"
   ]
  },
  {
   "cell_type": "code",
   "execution_count": null,
   "metadata": {},
   "outputs": [],
   "source": [
    "df['y'] = y_kmeans\n",
    "df.head(n=10)"
   ]
  },
  {
   "cell_type": "code",
   "execution_count": null,
   "metadata": {},
   "outputs": [],
   "source": [
    "df.y.value_counts()"
   ]
  },
  {
   "cell_type": "code",
   "execution_count": null,
   "metadata": {},
   "outputs": [],
   "source": [
    "plt.scatter(df['Lon'], df['Lat'], c=df['y'])"
   ]
  },
  {
   "cell_type": "markdown",
   "metadata": {},
   "source": [
    "# Representación de los puntos en el plano"
   ]
  },
  {
   "cell_type": "markdown",
   "metadata": {},
   "source": [
    "Primero seleccione el mapa sobre el que voy a representar los puntos"
   ]
  },
  {
   "cell_type": "code",
   "execution_count": null,
   "metadata": {},
   "outputs": [],
   "source": [
    "map = folium.Map(location=[40.7128, -74.0060], zoom_start=10,tiles = \"openstreetmap\")\n",
    "map"
   ]
  },
  {
   "cell_type": "markdown",
   "metadata": {},
   "source": [
    "## Ahora dibujamos cada punto en el mapa anterior.\n"
   ]
  },
  {
   "cell_type": "markdown",
   "metadata": {},
   "source": [
    "La otra opción es seleccionando directamente del data frame"
   ]
  },
  {
   "cell_type": "code",
   "execution_count": 28,
   "metadata": {},
   "outputs": [],
   "source": [
    "# for i in range (0,len(df)):  # No voy a representar todos porque son muchos, me quedo con los 1000 primeros\n",
    "for i in range (0,1000):\n",
    "  # primero defino los colores y los textos   \n",
    "  if df.iloc[i]['y'] == 0:\n",
    "       color_f=\"cornflowerblue\"\n",
    "       texto_pop=\"Pertenezco al cluster 1\"\n",
    "  elif df.iloc[i]['y'] == 1:\n",
    "       color_f=\"darkred\"\n",
    "       texto_pop=\"Pertenezco al cluster 2\"\n",
    "  elif df.iloc[i]['y'] == 2:\n",
    "       color_f=\"darkolivegreen\"\n",
    "       texto_pop=\"Pertenezco al cluster 3\"\n",
    "  elif df.iloc[i]['y'] == 3:\n",
    "       color_f=\"chocolate\"\n",
    "       texto_pop=\"Pertenezco al cluster 4\"\n",
    "  elif df.iloc[i]['y'] == 4:\n",
    "       color_f=\"indigo\"\n",
    "       texto_pop=\"Pertenezco al cluster 5\"    \n",
    "  else:\n",
    "       color_f=\"gold\"\n",
    "       texto_pop=\"Pertenezco al cluster 6\"\n",
    "        \n",
    "  \n",
    "        \n",
    "  folium.CircleMarker([df.iloc[i]['Lat'], df.iloc[i]['Lon']], radius=15, color=color_f, fill=True, fill_opacity=0.6, tooltip=texto_pop, popup=\"cluster {}\".format(df.iloc[i]['y']+1),).add_to(map)\n",
    "    \n",
    "\n"
   ]
  },
  {
   "cell_type": "code",
   "execution_count": null,
   "metadata": {},
   "outputs": [],
   "source": [
    "map"
   ]
  },
  {
   "cell_type": "code",
   "execution_count": 22,
   "metadata": {},
   "outputs": [],
   "source": [
    "map.save('mapaUBER.html')"
   ]
  }
 ],
 "metadata": {
  "kernelspec": {
   "display_name": "geo_env",
   "language": "python",
   "name": "python3"
  },
  "language_info": {
   "codemirror_mode": {
    "name": "ipython",
    "version": 3
   },
   "file_extension": ".py",
   "mimetype": "text/x-python",
   "name": "python",
   "nbconvert_exporter": "python",
   "pygments_lexer": "ipython3",
   "version": "3.11.3"
  }
 },
 "nbformat": 4,
 "nbformat_minor": 2
}
