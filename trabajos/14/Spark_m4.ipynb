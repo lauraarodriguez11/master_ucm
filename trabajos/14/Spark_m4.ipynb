{
 "cells": [
  {
   "cell_type": "markdown",
   "metadata": {
    "application/vnd.databricks.v1+cell": {
     "cellMetadata": {
      "byteLimit": 2048000,
      "rowLimit": 10000
     },
     "inputWidgets": {},
     "nuid": "e574ac80-635f-408d-95cb-4f6cc3ddfd3d",
     "showTitle": false,
     "tableResultSettingsMap": {},
     "title": ""
    },
    "deletable": false,
    "editable": false,
    "nbgrader": {
     "cell_type": "markdown",
     "checksum": "7f949b17b8f2814baa87c674deefe4d3",
     "grade": false,
     "grade_id": "cell-f8987996be9f1238",
     "locked": true,
     "schema_version": 3,
     "solution": false,
     "task": false
    }
   },
   "source": [
    "# La organización Kiva de préstamos entre particulares\n",
    "\n",
    "### Disponible en Kaggle en:\n",
    "https://www.kaggle.com/kiva/data-science-for-good-kiva-crowdfunding/version/5\n",
    "\n",
    "El conjunto de datos elegido recoge estadísticas de Kiva entre 2014 y 2017. Kiva abre un nuevo mundo de oportunidades para los menos favorecidos y nos permite a cualquiera de nosotros convertirnos en superhéroes. Se trata de una organización sin ánimo de lucro que ofrece pequeños préstamos para ayudar a las comunidades desatendidas que no tienen acceso a los servicios bancarios normales. Proporciona una plataforma y une a personas que estén dispuestas a prestar, un mínimo de 25 dólares, y prestatarios que expongan sus necesidades, la finalidad del dinero y las condiciones de devolución,  porque no es una donación, es un préstamo.\n",
    "\n",
    "Al crear este servicio, Kiva habilita una solución que desbloquea capital para todos y mantiene un interés financiero muy bajo para los prestatarios. Por otro lado, permite que cualquiera sea parte de la solución y brinda a las personas un amplio abanico de opciones para elegir quién, dónde, cuánto y para qué sector desea ayudar."
   ]
  },
  {
   "cell_type": "markdown",
   "metadata": {
    "application/vnd.databricks.v1+cell": {
     "cellMetadata": {
      "byteLimit": 2048000,
      "rowLimit": 10000
     },
     "inputWidgets": {},
     "nuid": "3ba46052-008d-492c-be30-74c27b4a334c",
     "showTitle": false,
     "tableResultSettingsMap": {},
     "title": ""
    },
    "deletable": false,
    "editable": false,
    "nbgrader": {
     "cell_type": "markdown",
     "checksum": "9a6b4dc108ddf890c659e33701965428",
     "grade": false,
     "grade_id": "cell-f74d7bfd01811789",
     "locked": true,
     "schema_version": 3,
     "solution": false,
     "task": false
    }
   },
   "source": [
    "### Variables y significado"
   ]
  },
  {
   "cell_type": "markdown",
   "metadata": {
    "application/vnd.databricks.v1+cell": {
     "cellMetadata": {
      "byteLimit": 2048000,
      "rowLimit": 10000
     },
     "inputWidgets": {},
     "nuid": "b32cc7e1-e65c-4d68-8c28-6138e1d152b2",
     "showTitle": false,
     "tableResultSettingsMap": {},
     "title": ""
    },
    "deletable": false,
    "editable": false,
    "nbgrader": {
     "cell_type": "markdown",
     "checksum": "ea569f4edabc5d7306f8ee2b35adc403",
     "grade": false,
     "grade_id": "cell-9cfb34982bd4eb04",
     "locked": true,
     "schema_version": 3,
     "solution": false,
     "task": false
    }
   },
   "source": [
    "Las variables utilizadas para describir cada préstamo son:\n",
    "\n",
    "\n",
    "* id: ID único para préstamo\n",
    "* funding_amount: la cantidad desembolsada por Kiva al agente de campo (USD)\n",
    "* loan_amount: la cantidad desembolsada por el agente de campo al prestatario (USD)\n",
    "* country_code: código ISO del país en el que se desembolsó el préstamo\n",
    "* activity: Categoría más granular\n",
    "* sector: Categoría de alto nivel\n",
    "* use: Uso exacto del monto del préstamo\n",
    "* country: Nombre completo del país en el que se desembolsó el préstamo\n",
    "* region: Nombre completo de la región dentro del país\n",
    "* currency: La moneda en que se desembolsó el préstamo\n",
    "* partner_id: ID de la organización asociada\n",
    "* posted_time: Hora a la que el agente de campo (intermediario) publica el préstamo en Kiva\n",
    "* disbursed_time: Hora en que el agente de campo (intermediario) entrega el préstamo al beneficiario\n",
    "* funded_time: El momento en que el préstamo publicado en Kiva es financiado por los prestamistas por completo\n",
    "* term_in_months: La duración por la cual el préstamo se desembolsó en meses\n",
    "* lender_count: El número total de prestamistas que contribuyeron a este préstamo.\n",
    "* tags: Etiquetas para describir el caso específico\n",
    "* borrower_genders: letras M, F separadas por comas, donde cada instancia representa un solo hombre / mujer en el grupo\n",
    "* repayment_interval: Estado de pago\n",
    "* date: fecha en la base de datos de esta operación."
   ]
  },
  {
   "cell_type": "markdown",
   "metadata": {
    "application/vnd.databricks.v1+cell": {
     "cellMetadata": {
      "byteLimit": 2048000,
      "rowLimit": 10000
     },
     "inputWidgets": {},
     "nuid": "30a307f9-36a3-439c-9844-97a16eb5dd38",
     "showTitle": false,
     "tableResultSettingsMap": {},
     "title": ""
    }
   },
   "source": [
    "**Nombre completo del alumno:**  Laura Rodríguez Ropero"
   ]
  },
  {
   "cell_type": "markdown",
   "metadata": {
    "application/vnd.databricks.v1+cell": {
     "cellMetadata": {
      "byteLimit": 2048000,
      "rowLimit": 10000
     },
     "inputWidgets": {},
     "nuid": "97f7539c-0d1e-4eb4-a9f8-c7875e1e0b42",
     "showTitle": false,
     "tableResultSettingsMap": {},
     "title": ""
    },
    "deletable": false,
    "editable": false,
    "nbgrader": {
     "cell_type": "markdown",
     "checksum": "3821f9090a3fe8312fb5f67097a7a9d2",
     "grade": false,
     "grade_id": "cell-b4f9c37a2b92d2e6",
     "locked": true,
     "schema_version": 3,
     "solution": false,
     "task": false
    }
   },
   "source": [
    "# INSTRUCCIONES\n",
    "\n",
    "En cada celda debes responder a la pregunta formulada, asegurándote de que el resultado queda guardado en la(s) variable(s) que por defecto vienen inicializadas a `None`. No se necesita usar variables intermedias, pero puedes hacerlo siempre que el resultado final del cálculo quede guardado exactamente en la variable que venía inicializada a None (debes reemplazar None por la secuencia de transformaciones necesarias, pero nunca cambiar el nombre de esa variable). \n",
    "\n",
    "**No olvides borrar la línea *raise NotImplementedError()* de cada celda cuando hayas completado la solución de esa celda y quieras probarla**.\n",
    "\n",
    "Después de cada celda evaluable verás una celda con código. Ejecútala (no modifiques su código) y te dirá si tu solución es correcta o no. En caso de ser correcta, se ejecutará correctamente y no mostrará nada, pero si no lo es mostrará un error. Además de esas pruebas, se realizarán algunas más (ocultas) a la hora de puntuar el ejercicio, pero evaluar dicha celda es un indicador bastante fiable acerca de si realmente has implementado la solución correcta o no. Asegúrate de que, al menos, todas las celdas indican que el código es correcto antes de enviar el notebook terminado.\n",
    "\n",
    "**Nunca se debe redondear ninguna cantidad si no lo pide explícitamente el enunciado**\n",
    "\n",
    "### Cada solución debe escribirse obligatoriamente en la celda habilitada para ello. Cualquier celda adicional que se haya creado durante el desarrollo deberá ser eliminada.\n",
    "\n",
    "Si necesitas crear celdas auxiliares durante el desarrollo, puedes hacerlo pero debes asegurarte de borrarlas antes de entregar el notebook."
   ]
  },
  {
   "cell_type": "markdown",
   "metadata": {
    "application/vnd.databricks.v1+cell": {
     "cellMetadata": {
      "byteLimit": 2048000,
      "rowLimit": 10000
     },
     "inputWidgets": {},
     "nuid": "a934eddf-4c05-41db-a400-49d5f775901e",
     "showTitle": false,
     "tableResultSettingsMap": {},
     "title": ""
    },
    "deletable": false,
    "editable": false,
    "nbgrader": {
     "cell_type": "markdown",
     "checksum": "9d51114ba5e01cc1f49401e7ec3fec2e",
     "grade": false,
     "grade_id": "cell-69ec0993eeaff3ac",
     "locked": true,
     "schema_version": 3,
     "solution": false,
     "task": false
    }
   },
   "source": [
    "### Sobre el dataset kiva_loans.csv se pide:"
   ]
  },
  {
   "cell_type": "markdown",
   "metadata": {
    "application/vnd.databricks.v1+cell": {
     "cellMetadata": {
      "byteLimit": 2048000,
      "rowLimit": 10000
     },
     "inputWidgets": {},
     "nuid": "789ab6dd-b019-4468-b477-b545d55c31b0",
     "showTitle": false,
     "tableResultSettingsMap": {},
     "title": ""
    }
   },
   "source": [
    "**(1 punto)** Ejercicio 1\n",
    "\n",
    "* Leerlo **sin intentar** que Spark infiera el tipo de dato de cada columna\n",
    "* Puesto que existen columnas que contienen una coma enmedio del valor, en esos casos los valores vienen entre comillas dobles. Spark ya contempla esta posibilidad y puede leerlas adecuadamente **si al leer le indicamos las siguientes opciones adicionales** además de las que ya sueles usar: `.option(\"quote\", \"\\\"\").option(\"escape\", \"\\\"\")`.\n",
    "* Asegúrate de que las **filas que no tienen el formato correcto sean descartadas**, indicando también la opción `mode` con el valor `DROPMALFORMED` como vimos en clase.\n",
    "* Crear un nuevo DF `kivaRawNoNullDF` en el que se hayan eliminado todas las filas que tengan algún valor nulo en cualquier columna **excepto en la columna tags**, que no será relevante para el análisis y por tanto podemos ignorar sus valores nulos y mantener dichas filas."
   ]
  },
  {
   "cell_type": "code",
   "execution_count": 0,
   "metadata": {
    "application/vnd.databricks.v1+cell": {
     "cellMetadata": {
      "byteLimit": 2048000,
      "rowLimit": 10000
     },
     "inputWidgets": {},
     "nuid": "4a0e6c3a-47c2-4c7b-96b0-c70ac74aa987",
     "showTitle": false,
     "tableResultSettingsMap": {},
     "title": ""
    },
    "deletable": false,
    "nbgrader": {
     "cell_type": "code",
     "checksum": "5dd7b5af2400b59ee2155e84fbd2bc1b",
     "grade": false,
     "grade_id": "read_csv",
     "locked": false,
     "schema_version": 3,
     "solution": true,
     "task": false
    }
   },
   "outputs": [],
   "source": [
    "# LÍNEA EVALUABLE, NO RENOMBRAR LAS VARIABLES\n",
    "kivaRawDF = None\n",
    "kivaRawNoNullDF = None\n",
    "\n",
    "from pyspark.sql import functions as F\n",
    "\n",
    "kivaRawDF = (spark.read\n",
    "                .option(\"header\", \"True\")\n",
    "                .option(\"quote\", \"\\\"\")\n",
    "                .option(\"escape\", \"\\\"\")\n",
    "                .option(\"mode\", \"DROPMALFORMED\")\n",
    "                .option(\"inferSchema\", \"False\")\n",
    "                .csv(\"abfss://datos@masterlrr001sta.dfs.core.windows.net/kiva_loans.csv\")\n",
    "            )\n",
    "\n",
    "columnasExceptoTags = kivaRawDF.columns\n",
    "columnasExceptoTags.remove(\"tags\")\n",
    "\n",
    "condicion_no_nulos = F.col(columnasExceptoTags[0]).isNotNull()\n",
    "for c in columnasExceptoTags[1:]:\n",
    "    condicion_no_nulos = condicion_no_nulos & F.col(c).isNotNull()\n",
    "\n",
    "kivaRawNoNullDF = kivaRawDF.filter(condicion_no_nulos)"
   ]
  },
  {
   "cell_type": "code",
   "execution_count": 0,
   "metadata": {
    "application/vnd.databricks.v1+cell": {
     "cellMetadata": {
      "byteLimit": 2048000,
      "rowLimit": 10000
     },
     "inputWidgets": {},
     "nuid": "4656b275-5b9c-48af-a25f-8da1f1acad8a",
     "showTitle": false,
     "tableResultSettingsMap": {},
     "title": ""
    },
    "deletable": false,
    "editable": false,
    "nbgrader": {
     "cell_type": "code",
     "checksum": "188c34c4f8b30b2afe579969e84c4636",
     "grade": true,
     "grade_id": "read_csv_test",
     "locked": true,
     "points": 1,
     "schema_version": 3,
     "solution": false,
     "task": false
    }
   },
   "outputs": [],
   "source": [
    "from pyspark.sql.types import DoubleType\n",
    "assert(kivaRawNoNullDF.count() == 574115)"
   ]
  },
  {
   "cell_type": "markdown",
   "metadata": {
    "application/vnd.databricks.v1+cell": {
     "cellMetadata": {
      "byteLimit": 2048000,
      "rowLimit": 10000
     },
     "inputWidgets": {},
     "nuid": "fe5f8f8b-9b4c-478a-88d0-bc416a9bd359",
     "showTitle": false,
     "tableResultSettingsMap": {},
     "title": ""
    },
    "deletable": false,
    "editable": false,
    "nbgrader": {
     "cell_type": "markdown",
     "checksum": "2f4645aff4a4c236ce8ea3c628630e46",
     "grade": false,
     "grade_id": "cell-b90f5b934eda250e",
     "locked": true,
     "schema_version": 3,
     "solution": false,
     "task": false
    }
   },
   "source": [
    "**(1 punto)** Ejercicio 2\n",
    "\n",
    "* Las columnas `posted_time`, `disbursed_time` y `funded_time` son en realidad instantes de tiempo que Spark debería procesar como timestamp. Partiendo de `kivaRawNoNullDF`, reemplaza **ambas columnas** por su versión convertida a timestamp, utilizando `withColumn` con el mismo nombre de cada columna, y donde el nuevo valor de la columna viene dado por el siguiente código:\n",
    "\n",
    "        F.from_unixtime(F.unix_timestamp('nombreColumna', 'yyyy-MM-dd HH:mm:ssXXX')).cast(\"timestamp\"))\n",
    "\n",
    "* Además, convierte a `DoubleType` la columna `loan_amount` y a `IntegerType` la columna `term_in_months`.\n",
    "\n",
    "* El DF resultante de todas estas operaciones debe quedar almacenado en la variable `kivaDF`, **cacheado**.\n"
   ]
  },
  {
   "cell_type": "code",
   "execution_count": 0,
   "metadata": {
    "application/vnd.databricks.v1+cell": {
     "cellMetadata": {
      "byteLimit": 2048000,
      "rowLimit": 10000
     },
     "inputWidgets": {},
     "nuid": "1d4347fc-18ef-422f-a6c6-b24ff31c4f2c",
     "showTitle": false,
     "tableResultSettingsMap": {},
     "title": ""
    },
    "deletable": false,
    "nbgrader": {
     "cell_type": "code",
     "checksum": "ca99506697f9a967d82bac2f35307d4d",
     "grade": false,
     "grade_id": "convert_timestamp",
     "locked": false,
     "schema_version": 3,
     "solution": true,
     "task": false
    }
   },
   "outputs": [
    {
     "output_type": "execute_result",
     "data": {
      "text/plain": [
       "DataFrame[id: string, funded_amount: string, loan_amount: double, activity: string, sector: string, use: string, country_code: string, country: string, region: string, currency: string, partner_id: string, posted_time: timestamp, disbursed_time: timestamp, funded_time: timestamp, term_in_months: int, lender_count: string, tags: string, borrower_genders: string, repayment_interval: string, date: string]"
      ]
     },
     "execution_count": 3,
     "metadata": {},
     "output_type": "execute_result"
    }
   ],
   "source": [
    "# LÍNEAS EVALUABLES, NO RENOMBRAR LAS VARIABLES\n",
    "kivaDF = None\n",
    "\n",
    "from pyspark.sql import functions as F\n",
    "from pyspark.sql.types import DoubleType, IntegerType\n",
    "\n",
    "kivaDF = (\n",
    "    kivaRawNoNullDF\n",
    "    .withColumn(\"posted_time\", F.from_unixtime(F.unix_timestamp(\"posted_time\", \"yyyy-MM-dd HH:mm:ssXXX\")).cast(\"timestamp\"))\n",
    "    .withColumn(\"disbursed_time\", F.from_unixtime(F.unix_timestamp(\"disbursed_time\", \"yyyy-MM-dd HH:mm:ssXXX\")).cast(\"timestamp\"))\n",
    "    .withColumn(\"funded_time\", F.from_unixtime(F.unix_timestamp(\"funded_time\", \"yyyy-MM-dd HH:mm:ssXXX\")).cast(\"timestamp\"))\n",
    "    .withColumn(\"loan_amount\", F.col(\"loan_amount\").cast(DoubleType()))\n",
    "    .withColumn(\"term_in_months\", F.col(\"term_in_months\").cast(IntegerType()))\n",
    ")\n",
    "\n",
    "kivaDF.cache()"
   ]
  },
  {
   "cell_type": "code",
   "execution_count": 0,
   "metadata": {
    "application/vnd.databricks.v1+cell": {
     "cellMetadata": {
      "byteLimit": 2048000,
      "rowLimit": 10000
     },
     "inputWidgets": {},
     "nuid": "9a7b95a2-6e99-4942-84ab-b7b4e4e3936d",
     "showTitle": false,
     "tableResultSettingsMap": {},
     "title": ""
    },
    "deletable": false,
    "editable": false,
    "nbgrader": {
     "cell_type": "code",
     "checksum": "4a659b870cc3a2b7d239dd7bbdd54eea",
     "grade": true,
     "grade_id": "convert_timestamp_tests",
     "locked": true,
     "points": 1,
     "schema_version": 3,
     "solution": false,
     "task": false
    }
   },
   "outputs": [],
   "source": [
    "from pyspark.sql import functions as F\n",
    "typesDict = dict(kivaDF.dtypes)\n",
    "assert(typesDict[\"posted_time\"] == \"timestamp\") \n",
    "assert(typesDict[\"disbursed_time\"] == \"timestamp\") \n",
    "assert(typesDict[\"loan_amount\"] == \"double\") \n",
    "assert(typesDict[\"term_in_months\"] == \"int\")\n",
    "cnt_cond = lambda cond: F.sum(F.when(cond, 1).otherwise(0))\n",
    "nullsRow = kivaDF.select(cnt_cond(F.col(\"posted_time\").isNull()).alias(\"posted_nulls\"),\n",
    "              cnt_cond(F.col(\"disbursed_time\").isNull()).alias(\"disbursed_nulls\")).head()\n",
    "assert(nullsRow.posted_nulls == 0)\n",
    "assert(nullsRow.disbursed_nulls == 0)"
   ]
  },
  {
   "cell_type": "markdown",
   "metadata": {
    "application/vnd.databricks.v1+cell": {
     "cellMetadata": {
      "byteLimit": 2048000,
      "rowLimit": 10000
     },
     "inputWidgets": {},
     "nuid": "9f81524a-12ab-48d9-8f43-50f24e9dc4ae",
     "showTitle": false,
     "tableResultSettingsMap": {},
     "title": ""
    },
    "deletable": false,
    "editable": false,
    "nbgrader": {
     "cell_type": "markdown",
     "checksum": "1e93f385f93838abff6492567725cfba",
     "grade": false,
     "grade_id": "cell-fc88821f19453a51",
     "locked": true,
     "schema_version": 3,
     "solution": false,
     "task": false
    }
   },
   "source": [
    "**(2 puntos)** Ejercicio 3\n",
    "\n",
    "Partiendo de `kivaDF`:\n",
    "\n",
    "* Primero, añade una nueva columna `dias_desembolso` que contenga el número de días que han pasado entre la fecha en que los prestamistas aceptaron financiar un proyecto, y la fecha en que el agente de campo entregó los fondos al beneficiario. Para ello, utiliza `withColumn` en combinación con la función `F.datediff(\"colFuturo\", \"colPasado\")`\n",
    "* De manera análoga, añade otra nueva columna `dias_aceptacion` que contenga el número de días entre el anuncio de la necesidad de préstamo y la aceptación de financiarlo por parte de algún prestamista.\n",
    "* Reemplazar la columna `sector` por otra en la que se hayan traducido las categorías \"Education\" por \"Educacion\" (sin tilde para evitar posibles problemas) y \"Agriculture\" por \"Agricultura\", dejando como están el resto de categorías. **La sustitución no debe tener más que tres casos**: uno para cada categoría que vamos a reemplazar, y un tercero para el resto de categorías, que deben quedarse como estaban.\n",
    "* El resultado debe quedar guardado en la variable `kivaTiemposDF`."
   ]
  },
  {
   "cell_type": "code",
   "execution_count": 0,
   "metadata": {
    "application/vnd.databricks.v1+cell": {
     "cellMetadata": {
      "byteLimit": 2048000,
      "rowLimit": 10000
     },
     "inputWidgets": {},
     "nuid": "55785530-d04b-4a70-a432-ef1614382884",
     "showTitle": false,
     "tableResultSettingsMap": {},
     "title": ""
    },
    "deletable": false,
    "nbgrader": {
     "cell_type": "code",
     "checksum": "5ca4098e1a7f6a6f74ba37e09dc7fafe",
     "grade": false,
     "grade_id": "aniade_tiempos",
     "locked": false,
     "schema_version": 3,
     "solution": true,
     "task": false
    }
   },
   "outputs": [],
   "source": [
    "# LÍNEA EVALUABLE, NO RENOMBRAR VARIABLES\n",
    "kivaTiemposDF = None\n",
    "\n",
    "from pyspark.sql import functions as F\n",
    "\n",
    "kivaTiemposDF = (\n",
    "    kivaDF\n",
    "    .withColumn(\"dias_desembolso\", F.datediff(\"funded_time\", \"disbursed_time\"))\n",
    "    .withColumn(\"dias_aceptacion\", F.datediff(\"funded_time\", \"posted_time\"))\n",
    "    \n",
    "    .withColumn(\n",
    "        \"sector\",\n",
    "        F.when(F.col(\"sector\") == \"Education\", \"Educacion\")\n",
    "         .when(F.col(\"sector\") == \"Agriculture\", \"Agricultura\")\n",
    "         .otherwise(F.col(\"sector\"))\n",
    "    )\n",
    ")"
   ]
  },
  {
   "cell_type": "code",
   "execution_count": 0,
   "metadata": {
    "application/vnd.databricks.v1+cell": {
     "cellMetadata": {
      "byteLimit": 2048000,
      "rowLimit": 10000
     },
     "inputWidgets": {},
     "nuid": "c4e44fff-1efe-48fe-800c-4ee10798fe17",
     "showTitle": false,
     "tableResultSettingsMap": {},
     "title": ""
    },
    "deletable": false,
    "editable": false,
    "nbgrader": {
     "cell_type": "code",
     "checksum": "dcadcc48648f84d47868016a5a1b2176",
     "grade": true,
     "grade_id": "aniade_tiempos_test",
     "locked": true,
     "points": 2,
     "schema_version": 3,
     "solution": false,
     "task": false
    }
   },
   "outputs": [],
   "source": [
    "assert(kivaTiemposDF.where(\"sector == 'Agricultura'\").count() == 157003)\n",
    "assert(kivaTiemposDF.where(\"sector == 'Educacion'\").count() == 28417)\n",
    "# Comprobamos que las 13 restantes se mantienen sin cambios\n",
    "assert(kivaTiemposDF.groupBy(\"sector\").count().join(kivaDF.groupBy(\"sector\").count(), [\"sector\", \"count\"]).count() == 13)"
   ]
  },
  {
   "cell_type": "markdown",
   "metadata": {
    "application/vnd.databricks.v1+cell": {
     "cellMetadata": {
      "byteLimit": 2048000,
      "rowLimit": 10000
     },
     "inputWidgets": {},
     "nuid": "773669ec-8a82-4c2d-be5f-6fc676c8adb8",
     "showTitle": false,
     "tableResultSettingsMap": {},
     "title": ""
    },
    "deletable": false,
    "editable": false,
    "nbgrader": {
     "cell_type": "markdown",
     "checksum": "79185ceef173a0104b5f923e4bde05a0",
     "grade": false,
     "grade_id": "cell-a71a6b17b1e0d613",
     "locked": true,
     "schema_version": 3,
     "solution": false,
     "task": false
    }
   },
   "source": [
    "**(3 puntos)** Ejercicio 4\n",
    "\n",
    "Partiendo de `kivaTiemposDF`, crear un nuevo DataFrame llamado `kivaAgrupadoDF` que tenga:\n",
    "\n",
    "* Tantas filas como **países (`country`; no usar el código de país)**, y tantas columnas como **sectores** (cada una llamada como el sector) más una (la columna del país, que debe aparecer en primer lugar). En cada celda deberá ir el número **medio (redondeado a 2 cifras decimales)** de días transcurridos en ese país y sector *entre la fecha en que se anuncia la necesidad de préstamo y la fecha en la que un prestamista acepta financiarlo*. Esta columna ha sido calculada en la celda precedente.\n",
    "* Después de esto, añadir una columna adicional `transcurrido_global` con el número **medio (redondeado a 2 cifras decimales) de días transcurridos en cada país** entre ambas fechas *sin tener en cuenta el sector*. Cada fila tendrá la media de las 15 columnas del apartado anterior.\n",
    "* Por último, ordenar el DF resultante **descendentemente** en base al tiempo medio global, `transcurrido_global`. El DF resultado de la ordenación debe ser almacenado en la variable `kivaAgrupadoDF`. \n",
    "\n",
    "PISTA: utiliza el método `pivot` con el sector para el primer apartado, envolviendo a la función de agregación con la función `F.round`, es decir, `F.round(F.funcionAgregacion(....), 2)`, y `withColumn` con una operación aritmética entre columnas en el segundo. **No debe utilizarse la función `when`** ya que Spark es capaz de hacer directamente aritmética entre objetos columna. La operación aritmética también debe estar envuelta por round: `F.round(op. aritmética entre objetos columna, 2)`."
   ]
  },
  {
   "cell_type": "code",
   "execution_count": 0,
   "metadata": {
    "application/vnd.databricks.v1+cell": {
     "cellMetadata": {
      "byteLimit": 2048000,
      "rowLimit": 10000
     },
     "inputWidgets": {},
     "nuid": "213407b2-f05e-41da-a355-cda51b94a5fa",
     "showTitle": false,
     "tableResultSettingsMap": {},
     "title": ""
    },
    "deletable": false,
    "nbgrader": {
     "cell_type": "code",
     "checksum": "396a2289c6c4fa8c5de5540783d27942",
     "grade": false,
     "grade_id": "tiempos_medios",
     "locked": false,
     "schema_version": 3,
     "solution": true,
     "task": false
    }
   },
   "outputs": [],
   "source": [
    "# LÍNEA EVALUABLE, NO RENOMBRAR VARIABLES\n",
    "kivaAgrupadoDF = None\n",
    "\n",
    "from pyspark.sql import functions as F\n",
    "\n",
    "pivotDF = (\n",
    "    kivaTiemposDF\n",
    "    .groupBy(\"country\")\n",
    "    .pivot(\"sector\")\n",
    "    .agg(F.round(F.avg(\"dias_aceptacion\"), 2))\n",
    ")\n",
    "\n",
    "sector_cols = [c for c in pivotDF.columns if c != \"country\"]\n",
    "suma_columnas = sum([F.col(c) for c in sector_cols])\n",
    "\n",
    "kivaAgrupadoDF = pivotDF.withColumn(\n",
    "    \"transcurrido_global\",\n",
    "    F.round(suma_columnas / len(sector_cols), 2)\n",
    ")\n",
    "\n",
    "kivaAgrupadoDF = kivaAgrupadoDF.orderBy(F.col(\"transcurrido_global\").desc())"
   ]
  },
  {
   "cell_type": "code",
   "execution_count": 0,
   "metadata": {
    "application/vnd.databricks.v1+cell": {
     "cellMetadata": {
      "byteLimit": 2048000,
      "rowLimit": 10000
     },
     "inputWidgets": {},
     "nuid": "80af0969-1a6c-419c-b1ad-8a03c48d79af",
     "showTitle": false,
     "tableResultSettingsMap": {},
     "title": ""
    },
    "deletable": false,
    "editable": false,
    "nbgrader": {
     "cell_type": "code",
     "checksum": "93ebd38f5b390fbfbd89be06a50c6282",
     "grade": true,
     "grade_id": "tiempos_medios_test",
     "locked": true,
     "points": 3,
     "schema_version": 3,
     "solution": false,
     "task": false
    }
   },
   "outputs": [],
   "source": [
    "r1 = kivaAgrupadoDF.head()\n",
    "assert(r1.country == \"United States\")\n",
    "assert((r1.Agricultura - 12.0 < 0.01) | (r1.Agricultura - 12.17 < 0.01))\n",
    "assert((r1.Educacion - 15.21 < 0.01) | (r1.Educacion - 15.33 < 0.01))\n",
    "assert(r1.Wholesale - 27.5 < 0.01)\n",
    "assert((r1.transcurrido_global - 20.94 < 0.01) | (r1.transcurrido_global - 21.04 < 0.01))"
   ]
  },
  {
   "cell_type": "markdown",
   "metadata": {
    "application/vnd.databricks.v1+cell": {
     "cellMetadata": {
      "byteLimit": 2048000,
      "rowLimit": 10000
     },
     "inputWidgets": {},
     "nuid": "1f04d54d-6261-4607-8ffb-7ecf99c422a7",
     "showTitle": false,
     "tableResultSettingsMap": {},
     "title": ""
    },
    "deletable": false,
    "editable": false,
    "nbgrader": {
     "cell_type": "markdown",
     "checksum": "31924076e8ce9e4467959d6eef2edcc4",
     "grade": false,
     "grade_id": "cell-c5ec05706eccd480",
     "locked": true,
     "schema_version": 3,
     "solution": false,
     "task": false
    }
   },
   "source": [
    "**(3 puntos)** Ejercicio 5\n",
    "\n",
    "Partiendo de nuevo de `kivaTiemposDF`, añadir las siguientes columnas:\n",
    "\n",
    "* Primero, tres columnas adicionales llamadas `transc_medio`, `transc_min`, `transc_max` que contengan, respectivamente, **el número de días medio, mínimo y máximo transcurrido para proyectos de ese mismo país y ese mismo sector** entre la fecha en que se postea la necesidad de préstamo y la fecha en la que alguien acepta financiarlo (es decir, la columna `dias_aceptacion` calculada antes y utilizada también en la celda anterior). Es decir, queremos una columna extra para que podamos tener, junto a cada préstamo, información agregada de los préstamos similares, entendidos como aquellos del mismo país y del mismo sector. **No se debe utilizar JOIN sino solo funciones de ventana**.\n",
    "* Finalmente, crear otra columna adicional `diff_dias` que contenga la **diferencia en días entre los días que transcurrieron en este proyecto y la media de días de los proyectos similares** (calculada en el apartado anterior). Debería ser lo primero menos lo segundo, de forma que un número positivo indica que este préstamo tardó más días en ser aceptado que la media de días de este país y sector, y un número negativo indica lo contrario. El resultado debe obtenerse aplicando operaciones aritméticas con columnas existentes, **sin utilizar `when`**.\n",
    "* El DF resultante con las 4 columnas nuevas que hemos añadido debe quedar almacenado en la variable `kivaExtraInfoDF`."
   ]
  },
  {
   "cell_type": "code",
   "execution_count": 0,
   "metadata": {
    "application/vnd.databricks.v1+cell": {
     "cellMetadata": {
      "byteLimit": 2048000,
      "rowLimit": 10000
     },
     "inputWidgets": {},
     "nuid": "713b7432-0226-4547-a51a-15e0873ab3e2",
     "showTitle": false,
     "tableResultSettingsMap": {},
     "title": ""
    },
    "deletable": false,
    "nbgrader": {
     "cell_type": "code",
     "checksum": "7781e45de12eaece0b66e4eb898e2b0b",
     "grade": false,
     "grade_id": "ventana",
     "locked": false,
     "schema_version": 3,
     "solution": true,
     "task": false
    }
   },
   "outputs": [],
   "source": [
    "# LÍNEA EVALUABLE, NO RENOMBRAR VARIABLES\n",
    "windowPaisSector = None\n",
    "kivaExtraInfoDF = None\n",
    "\n",
    "from pyspark.sql import functions as F\n",
    "from pyspark.sql.window import Window\n",
    "\n",
    "ventana = Window.partitionBy(\"country\", \"sector\")\n",
    "\n",
    "kivaExtraInfoDF = (\n",
    "    kivaTiemposDF\n",
    "    .withColumn(\"transc_medio\", F.avg(\"dias_aceptacion\").over(ventana))\n",
    "    .withColumn(\"transc_min\", F.min(\"dias_aceptacion\").over(ventana))\n",
    "    .withColumn(\"transc_max\", F.max(\"dias_aceptacion\").over(ventana))\n",
    "    .withColumn(\"diff_dias\", F.col(\"dias_aceptacion\") - F.col(\"transc_medio\"))\n",
    ")"
   ]
  },
  {
   "cell_type": "code",
   "execution_count": 0,
   "metadata": {
    "application/vnd.databricks.v1+cell": {
     "cellMetadata": {
      "byteLimit": 2048000,
      "rowLimit": 10000
     },
     "inputWidgets": {},
     "nuid": "8bac3149-84c8-4928-9d31-156959a361b9",
     "showTitle": false,
     "tableResultSettingsMap": {},
     "title": ""
    },
    "deletable": false,
    "editable": false,
    "nbgrader": {
     "cell_type": "code",
     "checksum": "844f128aa6e789cd3660a00ab0159b56",
     "grade": true,
     "grade_id": "ventana_test",
     "locked": true,
     "points": 3,
     "schema_version": 3,
     "solution": false,
     "task": false
    }
   },
   "outputs": [],
   "source": [
    "r = kivaExtraInfoDF.where(\"id = '658540'\").head()\n",
    "assert(r.country == 'Burkina Faso')\n",
    "assert(r.transc_medio - 11.02 < 0.05)\n",
    "assert(r.dias_aceptacion == 35)\n",
    "assert(r.diff_dias - 24.0 < 0.001)"
   ]
  }
 ],
 "metadata": {
  "application/vnd.databricks.v1+notebook": {
   "computePreferences": null,
   "dashboards": [],
   "environmentMetadata": null,
   "inputWidgetPreferences": null,
   "language": "python",
   "notebookMetadata": {
    "mostRecentlyExecutedCommandWithImplicitDF": {
     "commandId": 7382914326837180,
     "dataframes": [
      "_sqldf"
     ]
    },
    "pythonIndentUnit": 4
   },
   "notebookName": "Spark_m4",
   "widgets": {}
  },
  "kernelspec": {
   "display_name": "Python 3 (ipykernel)",
   "language": "python",
   "name": "python3"
  },
  "language_info": {
   "name": "python"
  }
 },
 "nbformat": 4,
 "nbformat_minor": 0
}